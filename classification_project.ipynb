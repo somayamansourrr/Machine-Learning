{
  "cells": [
    {
      "cell_type": "markdown",
      "metadata": {
        "id": "eCbZ9J2vPieY"
      },
      "source": [
        "**Step 1:** **Dataset Cleaning**\n",
        "\n",
        "The features are analyzed and where necessary,  the following actions are taken:\n",
        "\n",
        "*   Remove empty columns\n",
        "*   Remove outliers\n",
        "*   Remove duplicates\n",
        "*   Adjust data types\n",
        "*   Fill missing values\n",
        "*   Normalization\n"
      ]
    },
    {
      "cell_type": "code",
      "execution_count": 130,
      "metadata": {
        "id": "3C_Gr4cEPiec"
      },
      "outputs": [],
      "source": [
        "import numpy as np\n",
        "import pandas as pd\n",
        "import matplotlib.pyplot as plt\n",
        "import seaborn as sns\n",
        "from sklearn.preprocessing import StandardScaler\n",
        "from sklearn.preprocessing import MinMaxScaler\n",
        "from sklearn.preprocessing import LabelEncoder\n",
        "from sklearn import preprocessing\n",
        "from sklearn.model_selection import train_test_split\n",
        "from sklearn.naive_bayes import GaussianNB\n",
        "from sklearn.metrics import accuracy_score, confusion_matrix, classification_report\n",
        "from sklearn.model_selection import GridSearchCV, KFold, cross_val_score\n",
        "import os\n",
        "from pandas.api.types import CategoricalDtype"
      ]
    },
    {
      "cell_type": "code",
      "execution_count": 131,
      "metadata": {
        "collapsed": true,
        "id": "3pvxqGX1Piek"
      },
      "outputs": [],
      "source": [
        "#data = pd. read_csv('/content/drive/MyDrive/green_tripdata_2015-07_trimmed.csv')\n",
        "data = pd.read_csv('green_tripdata_2015-07_trimmed.csv')\n",
        "data.columns = data.columns.str.replace(' ', '_').str.lower()\n"
      ]
    },
    {
      "cell_type": "markdown",
      "metadata": {
        "id": "Ppy87cSruWBm"
      },
      "source": [
        "**Functions Used**"
      ]
    },
    {
      "cell_type": "code",
      "execution_count": 132,
      "metadata": {
        "id": "Dr3Lr270ubpY"
      },
      "outputs": [],
      "source": [
        "# Function to calculate IQRs\n",
        "def calc_iqr(df, col, multiplier=1.5):\n",
        "\n",
        "  q1 = df[col].quantile(0.25)\n",
        "  q3 = df[col].quantile(0.75)\n",
        "  iqr = q3 - q1\n",
        "\n",
        "  print(f'using {multiplier} to determine outliers\\n')\n",
        "  lower_lim = round(q1 - (iqr * multiplier), 2)\n",
        "  upper_lim = round(q3 + (iqr * multiplier), 2)\n",
        "  lower_count = df[df[col] < lower_lim].shape[0]\n",
        "  upper_count = df[df[col] > upper_lim].shape[0]\n",
        "\n",
        "\n",
        "  print(f'{col} Q1:', q1)\n",
        "  print(f'{col} lower limit:', lower_lim)\n",
        "  print(f'{col} contains {lower_count} records below the lower limit\\n')\n",
        "\n",
        "  print(f'{col} Q3:', q3)\n",
        "  print(f'upper limit:', upper_lim)\n",
        "  print(f'{col} contains {upper_count} records above the upper limit\\n')\n",
        "\n",
        "  print(f'{col} contains {lower_count + upper_count} total outliers')\n",
        "  print(f'this represents {round((lower_count + upper_count)/df.shape[0],2)} of the data')\n",
        "\n",
        "  return lower_lim,upper_lim"
      ]
    },
    {
      "cell_type": "code",
      "execution_count": 133,
      "metadata": {
        "id": "STh3vFlpSOUC"
      },
      "outputs": [],
      "source": [
        "scaler = MinMaxScaler()\n",
        "\n"
      ]
    },
    {
      "cell_type": "markdown",
      "metadata": {
        "id": "57T1SF7e-35f"
      },
      "source": [
        "**Feature Analysis**\n",
        "\n",
        "In this section we will be doing univariate analysis and removing outlier/illegitimate values.\n",
        "\n"
      ]
    },
    {
      "cell_type": "code",
      "execution_count": 134,
      "metadata": {
        "colab": {
          "base_uri": "https://localhost:8080/"
        },
        "id": "uBrBS47Z-7_T",
        "outputId": "77ab43fb-2691-4772-a94d-43047ea40f14"
      },
      "outputs": [
        {
          "name": "stdout",
          "output_type": "stream",
          "text": [
            "<class 'pandas.core.frame.DataFrame'>\n",
            "RangeIndex: 308333 entries, 0 to 308332\n",
            "Data columns (total 20 columns):\n",
            " #   Column                 Non-Null Count   Dtype  \n",
            "---  ------                 --------------   -----  \n",
            " 0   vendor                 308333 non-null  object \n",
            " 1   lpep_pickup_datetime   308333 non-null  object \n",
            " 2   lpep_dropoff_datetime  308333 non-null  object \n",
            " 3   store_and_fwd_flag     308333 non-null  object \n",
            " 4   rate_type              308333 non-null  object \n",
            " 5   pu_location            308333 non-null  object \n",
            " 6   do_location            308333 non-null  object \n",
            " 7   passenger_count        308241 non-null  float64\n",
            " 8   trip_distance          308333 non-null  float64\n",
            " 9   fare_amount            308333 non-null  float64\n",
            " 10  extra                  193057 non-null  float64\n",
            " 11  mta_tax                308333 non-null  float64\n",
            " 12  tip_amount             308333 non-null  float64\n",
            " 13  tolls_amount           308333 non-null  float64\n",
            " 14  ehail_fee              0 non-null       float64\n",
            " 15  improvement_surcharge  308333 non-null  float64\n",
            " 16  total_amount           308333 non-null  float64\n",
            " 17  payment_type           298038 non-null  object \n",
            " 18  trip_type              308333 non-null  object \n",
            " 19  congestion_surcharge   0 non-null       float64\n",
            "dtypes: float64(11), object(9)\n",
            "memory usage: 47.0+ MB\n"
          ]
        }
      ],
      "source": [
        "data.info()"
      ]
    },
    {
      "cell_type": "markdown",
      "metadata": {
        "id": "gsuZ8XEf9WOO"
      },
      "source": [
        "Preliminary Analysis:\n",
        "\n",
        "\n",
        "*   The data has 2 empty features: *'congestion_surcharge'* and *'ehail_fee'*.\n",
        "*   The data has 3 features with missing values: *'passenger_count'*, *'extra'* and *'payment_type'*.\n",
        "\n"
      ]
    },
    {
      "cell_type": "code",
      "execution_count": 135,
      "metadata": {
        "colab": {
          "base_uri": "https://localhost:8080/"
        },
        "id": "hqOu9aPIAlq-",
        "outputId": "dedf7cdf-db0f-4785-bba0-13c26f189f23"
      },
      "outputs": [
        {
          "name": "stdout",
          "output_type": "stream",
          "text": [
            "Number of duplicate rows: 1\n"
          ]
        }
      ],
      "source": [
        "duplicates = data.duplicated()\n",
        "num_duplicates = duplicates.sum()\n",
        "print(f'Number of duplicate rows: {num_duplicates}')"
      ]
    },
    {
      "cell_type": "code",
      "execution_count": 136,
      "metadata": {
        "id": "j-SZo3ylPieo"
      },
      "outputs": [],
      "source": [
        "data = data.drop_duplicates()"
      ]
    },
    {
      "cell_type": "code",
      "execution_count": 137,
      "metadata": {
        "colab": {
          "base_uri": "https://localhost:8080/"
        },
        "id": "HO288WJBPiep",
        "outputId": "ee257ad0-54f6-43b8-ac9f-1457739cb385"
      },
      "outputs": [
        {
          "data": {
            "text/plain": [
              "vendor                        0\n",
              "lpep_pickup_datetime          0\n",
              "lpep_dropoff_datetime         0\n",
              "store_and_fwd_flag            0\n",
              "rate_type                     0\n",
              "pu_location                   0\n",
              "do_location                   0\n",
              "passenger_count              92\n",
              "trip_distance                 0\n",
              "fare_amount                   0\n",
              "extra                    115276\n",
              "mta_tax                       0\n",
              "tip_amount                    0\n",
              "tolls_amount                  0\n",
              "ehail_fee                308332\n",
              "improvement_surcharge         0\n",
              "total_amount                  0\n",
              "payment_type              10295\n",
              "trip_type                     0\n",
              "congestion_surcharge     308332\n",
              "dtype: int64"
            ]
          },
          "execution_count": 137,
          "metadata": {},
          "output_type": "execute_result"
        }
      ],
      "source": [
        "data.isna().sum()"
      ]
    },
    {
      "cell_type": "markdown",
      "metadata": {
        "id": "MxHd-s_ttJAY"
      },
      "source": [
        "Features 'extra', 'passenger_count' and 'payment_type' have missing cells which are handled in the univariate analysis."
      ]
    },
    {
      "cell_type": "markdown",
      "metadata": {
        "id": "01oh2XB2vZgW"
      },
      "source": [
        "**1. Qualitative Features**"
      ]
    },
    {
      "cell_type": "markdown",
      "metadata": {
        "id": "Tm2LOiBPsL65"
      },
      "source": [
        "1.1 VendorID"
      ]
    },
    {
      "cell_type": "code",
      "execution_count": 138,
      "metadata": {
        "colab": {
          "base_uri": "https://localhost:8080/"
        },
        "id": "e2wcfA-U-JZ1",
        "outputId": "9b0a28d7-4474-40ab-d96a-01620d3886bd"
      },
      "outputs": [
        {
          "name": "stdout",
          "output_type": "stream",
          "text": [
            "Vendor Label mapping: {'Creative Mobile Technologies, LLC': 0, 'VeriFone Inc.': 1}\n"
          ]
        },
        {
          "data": {
            "text/plain": [
              "1    242164\n",
              "0     66168\n",
              "Name: vendor_encoded, dtype: int64"
            ]
          },
          "execution_count": 138,
          "metadata": {},
          "output_type": "execute_result"
        }
      ],
      "source": [
        "label_encoder = LabelEncoder()\n",
        "data['vendor_encoded'] = label_encoder.fit_transform(data['vendor'])\n",
        "\n",
        "label_mapping = dict(zip(label_encoder.classes_, label_encoder.transform(label_encoder.classes_)))\n",
        "\n",
        "print(\"Vendor Label mapping:\", label_mapping)\n",
        "\n",
        "data['vendor_encoded'].value_counts()"
      ]
    },
    {
      "cell_type": "markdown",
      "metadata": {
        "id": "G1Wanu74-pmv"
      },
      "source": [
        "After encoding the data, the original column is dropped from the dataset."
      ]
    },
    {
      "cell_type": "code",
      "execution_count": 139,
      "metadata": {
        "id": "AN8Xiqcr-MqR"
      },
      "outputs": [],
      "source": [
        "data.drop(columns=['vendor'],inplace=True)"
      ]
    },
    {
      "cell_type": "markdown",
      "metadata": {
        "id": "w-_Z91nV-NXz"
      },
      "source": [
        "1.2 Pickup and Dropoff Datetimes"
      ]
    },
    {
      "cell_type": "code",
      "execution_count": 140,
      "metadata": {
        "id": "gbbNzs25AnQ-"
      },
      "outputs": [],
      "source": [
        "data['lpep_pickup_datetime'] = pd.to_datetime(data['lpep_pickup_datetime'],  format='%Y-%m-%d %H:%M:%S')\n",
        "data['lpep_dropoff_datetime'] = pd.to_datetime(data['lpep_dropoff_datetime'],  format='%Y-%m-%d %H:%M:%S')"
      ]
    },
    {
      "cell_type": "markdown",
      "metadata": {
        "id": "_STS2K35BJov"
      },
      "source": [
        "**Create Additional Date Features**\n",
        "\n",
        "The existing data only has the datetime, so we will add the date (alone),day of week, pickup hour, whether it is rush hour or not, and the trip duration."
      ]
    },
    {
      "cell_type": "code",
      "execution_count": 141,
      "metadata": {
        "id": "Cl5Q1F7XpNGT"
      },
      "outputs": [],
      "source": [
        "def rush_hour(pickup_time):\n",
        "    if (pickup_time >= 15 and pickup_time <= 18) :\n",
        "        return 1  #Rush Hour\n",
        "    else:\n",
        "        return 0  #Normal Hour"
      ]
    },
    {
      "cell_type": "code",
      "execution_count": 142,
      "metadata": {
        "id": "7l8cE3YH01D-"
      },
      "outputs": [],
      "source": [
        "data['trip_date'] = data['lpep_pickup_datetime'].dt.date\n",
        "data['trip_date'] = data['trip_date'].astype('category')\n",
        "\n",
        "cat_strip_dow_name = CategoricalDtype(\n",
        "    ['Sunday', 'Monday', 'Tuesday', 'Wednesday', 'Thursday', 'Friday', 'Saturday'],\n",
        "    ordered=True\n",
        ")\n",
        "data['trip_dow_name'] = data['lpep_pickup_datetime'].dt.day_name()\n",
        "data['trip_dow_name'] = data['trip_dow_name'].astype(cat_strip_dow_name)\n"
      ]
    },
    {
      "cell_type": "code",
      "execution_count": 143,
      "metadata": {
        "id": "b1lZNEOaPiew"
      },
      "outputs": [],
      "source": [
        "data['rush_hour'] = data['lpep_pickup_datetime'].dt.hour.apply(rush_hour)\n",
        "\n",
        "data['pick_up_time'] = data['lpep_pickup_datetime'].dt.hour\n",
        "\n",
        "data['trip_duration_seconds'] = (data['lpep_dropoff_datetime'] - data['lpep_pickup_datetime']).dt.total_seconds()  # Duration in seconds\n"
      ]
    },
    {
      "cell_type": "code",
      "execution_count": 144,
      "metadata": {
        "colab": {
          "base_uri": "https://localhost:8080/",
          "height": 1000
        },
        "collapsed": true,
        "id": "XuCQxN9EBk21",
        "outputId": "021d9694-6aae-4c69-9bd4-25b413878385"
      },
      "outputs": [
        {
          "name": "stdout",
          "output_type": "stream",
          "text": [
            "<class 'pandas.core.frame.DataFrame'>\n",
            "Int64Index: 308332 entries, 0 to 308332\n",
            "Data columns (total 25 columns):\n",
            " #   Column                 Non-Null Count   Dtype         \n",
            "---  ------                 --------------   -----         \n",
            " 0   lpep_pickup_datetime   308332 non-null  datetime64[ns]\n",
            " 1   lpep_dropoff_datetime  308332 non-null  datetime64[ns]\n",
            " 2   store_and_fwd_flag     308332 non-null  object        \n",
            " 3   rate_type              308332 non-null  object        \n",
            " 4   pu_location            308332 non-null  object        \n",
            " 5   do_location            308332 non-null  object        \n",
            " 6   passenger_count        308240 non-null  float64       \n",
            " 7   trip_distance          308332 non-null  float64       \n",
            " 8   fare_amount            308332 non-null  float64       \n",
            " 9   extra                  193056 non-null  float64       \n",
            " 10  mta_tax                308332 non-null  float64       \n",
            " 11  tip_amount             308332 non-null  float64       \n",
            " 12  tolls_amount           308332 non-null  float64       \n",
            " 13  ehail_fee              0 non-null       float64       \n",
            " 14  improvement_surcharge  308332 non-null  float64       \n",
            " 15  total_amount           308332 non-null  float64       \n",
            " 16  payment_type           298037 non-null  object        \n",
            " 17  trip_type              308332 non-null  object        \n",
            " 18  congestion_surcharge   0 non-null       float64       \n",
            " 19  vendor_encoded         308332 non-null  int32         \n",
            " 20  trip_date              308332 non-null  category      \n",
            " 21  trip_dow_name          308332 non-null  category      \n",
            " 22  rush_hour              308332 non-null  int64         \n",
            " 23  pick_up_time           308332 non-null  int64         \n",
            " 24  trip_duration_seconds  308332 non-null  float64       \n",
            "dtypes: category(2), datetime64[ns](2), float64(12), int32(1), int64(2), object(6)\n",
            "memory usage: 55.9+ MB\n"
          ]
        },
        {
          "data": {
            "text/html": [
              "<div>\n",
              "<style scoped>\n",
              "    .dataframe tbody tr th:only-of-type {\n",
              "        vertical-align: middle;\n",
              "    }\n",
              "\n",
              "    .dataframe tbody tr th {\n",
              "        vertical-align: top;\n",
              "    }\n",
              "\n",
              "    .dataframe thead th {\n",
              "        text-align: right;\n",
              "    }\n",
              "</style>\n",
              "<table border=\"1\" class=\"dataframe\">\n",
              "  <thead>\n",
              "    <tr style=\"text-align: right;\">\n",
              "      <th></th>\n",
              "      <th>lpep_pickup_datetime</th>\n",
              "      <th>lpep_dropoff_datetime</th>\n",
              "      <th>store_and_fwd_flag</th>\n",
              "      <th>rate_type</th>\n",
              "      <th>pu_location</th>\n",
              "      <th>do_location</th>\n",
              "      <th>passenger_count</th>\n",
              "      <th>trip_distance</th>\n",
              "      <th>fare_amount</th>\n",
              "      <th>extra</th>\n",
              "      <th>...</th>\n",
              "      <th>total_amount</th>\n",
              "      <th>payment_type</th>\n",
              "      <th>trip_type</th>\n",
              "      <th>congestion_surcharge</th>\n",
              "      <th>vendor_encoded</th>\n",
              "      <th>trip_date</th>\n",
              "      <th>trip_dow_name</th>\n",
              "      <th>rush_hour</th>\n",
              "      <th>pick_up_time</th>\n",
              "      <th>trip_duration_seconds</th>\n",
              "    </tr>\n",
              "  </thead>\n",
              "  <tbody>\n",
              "    <tr>\n",
              "      <th>0</th>\n",
              "      <td>2015-07-01 00:12:55</td>\n",
              "      <td>2015-07-01 00:16:53</td>\n",
              "      <td>N</td>\n",
              "      <td>Standard rate</td>\n",
              "      <td>Brooklyn,Williamsburg (South Side)</td>\n",
              "      <td>Brooklyn,Bushwick South</td>\n",
              "      <td>1.0</td>\n",
              "      <td>0.88</td>\n",
              "      <td>5.0</td>\n",
              "      <td>0.5</td>\n",
              "      <td>...</td>\n",
              "      <td>7.88</td>\n",
              "      <td>Credit card</td>\n",
              "      <td>Street-hail</td>\n",
              "      <td>NaN</td>\n",
              "      <td>1</td>\n",
              "      <td>2015-07-01</td>\n",
              "      <td>Wednesday</td>\n",
              "      <td>0</td>\n",
              "      <td>0</td>\n",
              "      <td>238.0</td>\n",
              "    </tr>\n",
              "    <tr>\n",
              "      <th>1</th>\n",
              "      <td>2015-07-01 00:38:35</td>\n",
              "      <td>2015-07-01 00:49:22</td>\n",
              "      <td>N</td>\n",
              "      <td>Standard rate</td>\n",
              "      <td>Brooklyn,Williamsburg (South Side)</td>\n",
              "      <td>Queens,Ridgewood</td>\n",
              "      <td>1.0</td>\n",
              "      <td>3.00</td>\n",
              "      <td>11.0</td>\n",
              "      <td>0.5</td>\n",
              "      <td>...</td>\n",
              "      <td>14.76</td>\n",
              "      <td>Credit card</td>\n",
              "      <td>Street-hail</td>\n",
              "      <td>NaN</td>\n",
              "      <td>1</td>\n",
              "      <td>2015-07-01</td>\n",
              "      <td>Wednesday</td>\n",
              "      <td>0</td>\n",
              "      <td>0</td>\n",
              "      <td>647.0</td>\n",
              "    </tr>\n",
              "    <tr>\n",
              "      <th>2</th>\n",
              "      <td>2015-07-01 00:59:01</td>\n",
              "      <td>2015-07-01 01:04:10</td>\n",
              "      <td>N</td>\n",
              "      <td>Standard rate</td>\n",
              "      <td>Brooklyn,Bushwick North</td>\n",
              "      <td>Brooklyn,East Williamsburg</td>\n",
              "      <td>1.0</td>\n",
              "      <td>1.61</td>\n",
              "      <td>6.5</td>\n",
              "      <td>0.5</td>\n",
              "      <td>...</td>\n",
              "      <td>7.80</td>\n",
              "      <td>Cash</td>\n",
              "      <td>Street-hail</td>\n",
              "      <td>NaN</td>\n",
              "      <td>1</td>\n",
              "      <td>2015-07-01</td>\n",
              "      <td>Wednesday</td>\n",
              "      <td>0</td>\n",
              "      <td>0</td>\n",
              "      <td>309.0</td>\n",
              "    </tr>\n",
              "    <tr>\n",
              "      <th>3</th>\n",
              "      <td>2015-07-01 00:48:41</td>\n",
              "      <td>2015-07-01 00:54:24</td>\n",
              "      <td>N</td>\n",
              "      <td>Standard rate</td>\n",
              "      <td>Brooklyn,Brownsville</td>\n",
              "      <td>Brooklyn,East Flatbush/Remsen Village</td>\n",
              "      <td>1.0</td>\n",
              "      <td>0.00</td>\n",
              "      <td>5.0</td>\n",
              "      <td>0.5</td>\n",
              "      <td>...</td>\n",
              "      <td>7.56</td>\n",
              "      <td>Credit card</td>\n",
              "      <td>Street-hail</td>\n",
              "      <td>NaN</td>\n",
              "      <td>1</td>\n",
              "      <td>2015-07-01</td>\n",
              "      <td>Wednesday</td>\n",
              "      <td>0</td>\n",
              "      <td>0</td>\n",
              "      <td>343.0</td>\n",
              "    </tr>\n",
              "    <tr>\n",
              "      <th>4</th>\n",
              "      <td>2015-07-01 00:56:28</td>\n",
              "      <td>2015-07-01 01:07:45</td>\n",
              "      <td>N</td>\n",
              "      <td>Standard rate</td>\n",
              "      <td>Brooklyn,East Flatbush/Remsen Village</td>\n",
              "      <td>Brooklyn,Brownsville</td>\n",
              "      <td>1.0</td>\n",
              "      <td>0.00</td>\n",
              "      <td>8.0</td>\n",
              "      <td>0.5</td>\n",
              "      <td>...</td>\n",
              "      <td>11.16</td>\n",
              "      <td>Credit card</td>\n",
              "      <td>Street-hail</td>\n",
              "      <td>NaN</td>\n",
              "      <td>1</td>\n",
              "      <td>2015-07-01</td>\n",
              "      <td>Wednesday</td>\n",
              "      <td>0</td>\n",
              "      <td>0</td>\n",
              "      <td>677.0</td>\n",
              "    </tr>\n",
              "    <tr>\n",
              "      <th>5</th>\n",
              "      <td>2015-07-01 00:21:37</td>\n",
              "      <td>2015-07-01 00:27:49</td>\n",
              "      <td>N</td>\n",
              "      <td>Standard rate</td>\n",
              "      <td>Queens,Steinway</td>\n",
              "      <td>Queens,Steinway</td>\n",
              "      <td>1.0</td>\n",
              "      <td>1.39</td>\n",
              "      <td>7.0</td>\n",
              "      <td>0.5</td>\n",
              "      <td>...</td>\n",
              "      <td>8.30</td>\n",
              "      <td>Cash</td>\n",
              "      <td>Street-hail</td>\n",
              "      <td>NaN</td>\n",
              "      <td>1</td>\n",
              "      <td>2015-07-01</td>\n",
              "      <td>Wednesday</td>\n",
              "      <td>0</td>\n",
              "      <td>0</td>\n",
              "      <td>372.0</td>\n",
              "    </tr>\n",
              "    <tr>\n",
              "      <th>6</th>\n",
              "      <td>2015-07-01 00:39:06</td>\n",
              "      <td>2015-07-01 00:41:33</td>\n",
              "      <td>N</td>\n",
              "      <td>Standard rate</td>\n",
              "      <td>Queens,Steinway</td>\n",
              "      <td>Queens,Steinway</td>\n",
              "      <td>1.0</td>\n",
              "      <td>0.76</td>\n",
              "      <td>4.5</td>\n",
              "      <td>0.5</td>\n",
              "      <td>...</td>\n",
              "      <td>5.80</td>\n",
              "      <td>Cash</td>\n",
              "      <td>Street-hail</td>\n",
              "      <td>NaN</td>\n",
              "      <td>1</td>\n",
              "      <td>2015-07-01</td>\n",
              "      <td>Wednesday</td>\n",
              "      <td>0</td>\n",
              "      <td>0</td>\n",
              "      <td>147.0</td>\n",
              "    </tr>\n",
              "    <tr>\n",
              "      <th>7</th>\n",
              "      <td>2015-07-01 00:08:54</td>\n",
              "      <td>2015-07-01 00:16:45</td>\n",
              "      <td>N</td>\n",
              "      <td>Standard rate</td>\n",
              "      <td>Brooklyn,East Williamsburg</td>\n",
              "      <td>Brooklyn,Bushwick North</td>\n",
              "      <td>5.0</td>\n",
              "      <td>1.89</td>\n",
              "      <td>8.0</td>\n",
              "      <td>0.5</td>\n",
              "      <td>...</td>\n",
              "      <td>11.16</td>\n",
              "      <td>Credit card</td>\n",
              "      <td>Street-hail</td>\n",
              "      <td>NaN</td>\n",
              "      <td>1</td>\n",
              "      <td>2015-07-01</td>\n",
              "      <td>Wednesday</td>\n",
              "      <td>0</td>\n",
              "      <td>0</td>\n",
              "      <td>471.0</td>\n",
              "    </tr>\n",
              "    <tr>\n",
              "      <th>8</th>\n",
              "      <td>2015-07-01 00:30:34</td>\n",
              "      <td>2015-07-01 00:37:51</td>\n",
              "      <td>N</td>\n",
              "      <td>Standard rate</td>\n",
              "      <td>Brooklyn,Williamsburg (North Side)</td>\n",
              "      <td>Brooklyn,Williamsburg (South Side)</td>\n",
              "      <td>5.0</td>\n",
              "      <td>1.12</td>\n",
              "      <td>6.5</td>\n",
              "      <td>0.5</td>\n",
              "      <td>...</td>\n",
              "      <td>9.36</td>\n",
              "      <td>Credit card</td>\n",
              "      <td>Street-hail</td>\n",
              "      <td>NaN</td>\n",
              "      <td>1</td>\n",
              "      <td>2015-07-01</td>\n",
              "      <td>Wednesday</td>\n",
              "      <td>0</td>\n",
              "      <td>0</td>\n",
              "      <td>437.0</td>\n",
              "    </tr>\n",
              "    <tr>\n",
              "      <th>9</th>\n",
              "      <td>2015-07-01 00:46:08</td>\n",
              "      <td>2015-07-01 00:54:06</td>\n",
              "      <td>N</td>\n",
              "      <td>Standard rate</td>\n",
              "      <td>Brooklyn,Williamsburg (North Side)</td>\n",
              "      <td>Brooklyn,Bushwick South</td>\n",
              "      <td>5.0</td>\n",
              "      <td>1.47</td>\n",
              "      <td>7.5</td>\n",
              "      <td>0.5</td>\n",
              "      <td>...</td>\n",
              "      <td>9.80</td>\n",
              "      <td>Credit card</td>\n",
              "      <td>Street-hail</td>\n",
              "      <td>NaN</td>\n",
              "      <td>1</td>\n",
              "      <td>2015-07-01</td>\n",
              "      <td>Wednesday</td>\n",
              "      <td>0</td>\n",
              "      <td>0</td>\n",
              "      <td>478.0</td>\n",
              "    </tr>\n",
              "  </tbody>\n",
              "</table>\n",
              "<p>10 rows × 25 columns</p>\n",
              "</div>"
            ],
            "text/plain": [
              "  lpep_pickup_datetime lpep_dropoff_datetime store_and_fwd_flag  \\\n",
              "0  2015-07-01 00:12:55   2015-07-01 00:16:53                  N   \n",
              "1  2015-07-01 00:38:35   2015-07-01 00:49:22                  N   \n",
              "2  2015-07-01 00:59:01   2015-07-01 01:04:10                  N   \n",
              "3  2015-07-01 00:48:41   2015-07-01 00:54:24                  N   \n",
              "4  2015-07-01 00:56:28   2015-07-01 01:07:45                  N   \n",
              "5  2015-07-01 00:21:37   2015-07-01 00:27:49                  N   \n",
              "6  2015-07-01 00:39:06   2015-07-01 00:41:33                  N   \n",
              "7  2015-07-01 00:08:54   2015-07-01 00:16:45                  N   \n",
              "8  2015-07-01 00:30:34   2015-07-01 00:37:51                  N   \n",
              "9  2015-07-01 00:46:08   2015-07-01 00:54:06                  N   \n",
              "\n",
              "       rate_type                            pu_location  \\\n",
              "0  Standard rate     Brooklyn,Williamsburg (South Side)   \n",
              "1  Standard rate     Brooklyn,Williamsburg (South Side)   \n",
              "2  Standard rate                Brooklyn,Bushwick North   \n",
              "3  Standard rate                   Brooklyn,Brownsville   \n",
              "4  Standard rate  Brooklyn,East Flatbush/Remsen Village   \n",
              "5  Standard rate                        Queens,Steinway   \n",
              "6  Standard rate                        Queens,Steinway   \n",
              "7  Standard rate             Brooklyn,East Williamsburg   \n",
              "8  Standard rate     Brooklyn,Williamsburg (North Side)   \n",
              "9  Standard rate     Brooklyn,Williamsburg (North Side)   \n",
              "\n",
              "                             do_location  passenger_count  trip_distance  \\\n",
              "0                Brooklyn,Bushwick South              1.0           0.88   \n",
              "1                       Queens,Ridgewood              1.0           3.00   \n",
              "2             Brooklyn,East Williamsburg              1.0           1.61   \n",
              "3  Brooklyn,East Flatbush/Remsen Village              1.0           0.00   \n",
              "4                   Brooklyn,Brownsville              1.0           0.00   \n",
              "5                        Queens,Steinway              1.0           1.39   \n",
              "6                        Queens,Steinway              1.0           0.76   \n",
              "7                Brooklyn,Bushwick North              5.0           1.89   \n",
              "8     Brooklyn,Williamsburg (South Side)              5.0           1.12   \n",
              "9                Brooklyn,Bushwick South              5.0           1.47   \n",
              "\n",
              "   fare_amount  extra  ...  total_amount  payment_type    trip_type  \\\n",
              "0          5.0    0.5  ...          7.88   Credit card  Street-hail   \n",
              "1         11.0    0.5  ...         14.76   Credit card  Street-hail   \n",
              "2          6.5    0.5  ...          7.80          Cash  Street-hail   \n",
              "3          5.0    0.5  ...          7.56   Credit card  Street-hail   \n",
              "4          8.0    0.5  ...         11.16   Credit card  Street-hail   \n",
              "5          7.0    0.5  ...          8.30          Cash  Street-hail   \n",
              "6          4.5    0.5  ...          5.80          Cash  Street-hail   \n",
              "7          8.0    0.5  ...         11.16   Credit card  Street-hail   \n",
              "8          6.5    0.5  ...          9.36   Credit card  Street-hail   \n",
              "9          7.5    0.5  ...          9.80   Credit card  Street-hail   \n",
              "\n",
              "   congestion_surcharge  vendor_encoded   trip_date trip_dow_name rush_hour  \\\n",
              "0                   NaN               1  2015-07-01     Wednesday         0   \n",
              "1                   NaN               1  2015-07-01     Wednesday         0   \n",
              "2                   NaN               1  2015-07-01     Wednesday         0   \n",
              "3                   NaN               1  2015-07-01     Wednesday         0   \n",
              "4                   NaN               1  2015-07-01     Wednesday         0   \n",
              "5                   NaN               1  2015-07-01     Wednesday         0   \n",
              "6                   NaN               1  2015-07-01     Wednesday         0   \n",
              "7                   NaN               1  2015-07-01     Wednesday         0   \n",
              "8                   NaN               1  2015-07-01     Wednesday         0   \n",
              "9                   NaN               1  2015-07-01     Wednesday         0   \n",
              "\n",
              "   pick_up_time  trip_duration_seconds  \n",
              "0             0                  238.0  \n",
              "1             0                  647.0  \n",
              "2             0                  309.0  \n",
              "3             0                  343.0  \n",
              "4             0                  677.0  \n",
              "5             0                  372.0  \n",
              "6             0                  147.0  \n",
              "7             0                  471.0  \n",
              "8             0                  437.0  \n",
              "9             0                  478.0  \n",
              "\n",
              "[10 rows x 25 columns]"
            ]
          },
          "execution_count": 144,
          "metadata": {},
          "output_type": "execute_result"
        }
      ],
      "source": [
        "data.info()\n",
        "data.head(10)"
      ]
    },
    {
      "cell_type": "code",
      "execution_count": 145,
      "metadata": {
        "colab": {
          "base_uri": "https://localhost:8080/"
        },
        "collapsed": true,
        "id": "JmWdzikUxF1y",
        "outputId": "afa422d4-4486-4e8f-b1ea-84aa37fe53d7"
      },
      "outputs": [
        {
          "name": "stdout",
          "output_type": "stream",
          "text": [
            "Day of Week Label mapping: {'Friday': 0, 'Monday': 1, 'Saturday': 2, 'Sunday': 3, 'Thursday': 4, 'Tuesday': 5, 'Wednesday': 6}\n"
          ]
        },
        {
          "data": {
            "text/plain": [
              "0    77191\n",
              "2    55072\n",
              "3    38776\n",
              "4    37072\n",
              "1    36380\n",
              "6    33863\n",
              "5    29978\n",
              "Name: trip_dow_name_encoded, dtype: int64"
            ]
          },
          "execution_count": 145,
          "metadata": {},
          "output_type": "execute_result"
        }
      ],
      "source": [
        "data['trip_dow_name_encoded'] = label_encoder.fit_transform(data['trip_dow_name'])\n",
        "\n",
        "label_mapping = dict(zip(label_encoder.classes_, label_encoder.transform(label_encoder.classes_)))\n",
        "\n",
        "print(\"Day of Week Label mapping:\", label_mapping)\n",
        "\n",
        "data['trip_dow_name_encoded'].value_counts()"
      ]
    },
    {
      "cell_type": "code",
      "execution_count": 146,
      "metadata": {
        "id": "a0cn7fboxgtT"
      },
      "outputs": [],
      "source": [
        "data.drop(columns=['lpep_pickup_datetime'],inplace=True)\n",
        "data.drop(columns=['lpep_dropoff_datetime'],inplace=True)\n",
        "data.drop(columns=['trip_dow_name'],inplace=True)\n",
        "data.drop(columns=['trip_date'],inplace=True)"
      ]
    },
    {
      "cell_type": "markdown",
      "metadata": {
        "id": "7O8-cMDlqy2K"
      },
      "source": [
        "1.3 Store and Forward Flag"
      ]
    },
    {
      "cell_type": "code",
      "execution_count": 147,
      "metadata": {
        "colab": {
          "base_uri": "https://localhost:8080/"
        },
        "id": "HaTTWPFRvyGO",
        "outputId": "9650a53c-c9dc-46fe-d2ed-e97434531cf7"
      },
      "outputs": [
        {
          "name": "stdout",
          "output_type": "stream",
          "text": [
            "Store and Forward Flag mapping: {'N': 0, 'Y': 1}\n"
          ]
        },
        {
          "data": {
            "text/plain": [
              "0    306379\n",
              "1      1953\n",
              "Name: store_and_fwd_flag_encoded, dtype: int64"
            ]
          },
          "execution_count": 147,
          "metadata": {},
          "output_type": "execute_result"
        }
      ],
      "source": [
        "data['store_and_fwd_flag_encoded'] = label_encoder.fit_transform(data['store_and_fwd_flag'])\n",
        "\n",
        "label_mapping = dict(zip(label_encoder.classes_, label_encoder.transform(label_encoder.classes_)))\n",
        "\n",
        "print(\"Store and Forward Flag mapping:\", label_mapping)\n",
        "\n",
        "data['store_and_fwd_flag_encoded'].value_counts()"
      ]
    },
    {
      "cell_type": "code",
      "execution_count": 148,
      "metadata": {
        "id": "GzuV7sdDxkAD"
      },
      "outputs": [],
      "source": [
        "data.drop(columns=['store_and_fwd_flag'],inplace=True)"
      ]
    },
    {
      "cell_type": "markdown",
      "metadata": {
        "id": "1-mdyCnBq2rb"
      },
      "source": [
        "1.4 Rate Type"
      ]
    },
    {
      "cell_type": "code",
      "execution_count": 149,
      "metadata": {
        "colab": {
          "base_uri": "https://localhost:8080/"
        },
        "id": "q4ZAw2b7v3cp",
        "outputId": "59ad99be-f10d-4046-c051-f05b852d2550"
      },
      "outputs": [
        {
          "name": "stdout",
          "output_type": "stream",
          "text": [
            "Rate Type Label mapping: {'Group ride': 0, 'JFK': 1, 'Nassau or Westchester': 2, 'Negotiated fare': 3, 'Newark': 4, 'Standard rate': 5}\n"
          ]
        },
        {
          "data": {
            "text/plain": [
              "5    299842\n",
              "3      7193\n",
              "1       869\n",
              "4       254\n",
              "2       165\n",
              "0         9\n",
              "Name: rate_type_encoded, dtype: int64"
            ]
          },
          "execution_count": 149,
          "metadata": {},
          "output_type": "execute_result"
        }
      ],
      "source": [
        "data['rate_type_encoded'] = label_encoder.fit_transform(data['rate_type'])\n",
        "\n",
        "label_mapping = dict(zip(label_encoder.classes_, label_encoder.transform(label_encoder.classes_)))\n",
        "\n",
        "print(\"Rate Type Label mapping:\", label_mapping)\n",
        "\n",
        "data['rate_type_encoded'].value_counts()"
      ]
    },
    {
      "cell_type": "code",
      "execution_count": 150,
      "metadata": {
        "id": "_4kuAYnCv8cs"
      },
      "outputs": [],
      "source": [
        "data.drop(columns=['rate_type'],inplace=True)"
      ]
    },
    {
      "cell_type": "markdown",
      "metadata": {
        "id": "qT7aXteKq2gU"
      },
      "source": [
        "1.5 Pickup and Drop off Locations"
      ]
    },
    {
      "cell_type": "code",
      "execution_count": 151,
      "metadata": {
        "colab": {
          "base_uri": "https://localhost:8080/"
        },
        "id": "tcsl4uFcwCIr",
        "outputId": "ea7f37b4-3ecc-4159-a377-c675b936fce6"
      },
      "outputs": [
        {
          "name": "stdout",
          "output_type": "stream",
          "text": [
            "Pick Up Location Label mapping: {'Bronx,Allerton/Pelham Gardens': 0, 'Bronx,Bedford Park': 1, 'Bronx,Belmont': 2, 'Bronx,Bronx Park': 3, 'Bronx,Bronxdale': 4, 'Bronx,City Island': 5, 'Bronx,Claremont/Bathgate': 6, 'Bronx,Co-Op City': 7, 'Bronx,Country Club': 8, 'Bronx,Crotona Park': 9, 'Bronx,Crotona Park East': 10, 'Bronx,East Concourse/Concourse Village': 11, 'Bronx,East Tremont': 12, 'Bronx,Eastchester': 13, 'Bronx,Fordham South': 14, 'Bronx,Highbridge': 15, 'Bronx,Hunts Point': 16, 'Bronx,Kingsbridge Heights': 17, 'Bronx,Longwood': 18, 'Bronx,Melrose South': 19, 'Bronx,Morrisania/Melrose': 20, 'Bronx,Mott Haven/Port Morris': 21, 'Bronx,Mount Hope': 22, 'Bronx,Norwood': 23, 'Bronx,Parkchester': 24, 'Bronx,Pelham Bay': 25, 'Bronx,Pelham Bay Park': 26, 'Bronx,Pelham Parkway': 27, 'Bronx,Riverdale/North Riverdale/Fieldston': 28, 'Bronx,Schuylerville/Edgewater Park': 29, 'Bronx,Soundview/Bruckner': 30, 'Bronx,Soundview/Castle Hill': 31, 'Bronx,Spuyten Duyvil/Kingsbridge': 32, 'Bronx,University Heights/Morris Heights': 33, 'Bronx,Van Cortlandt Park': 34, 'Bronx,Van Cortlandt Village': 35, 'Bronx,Van Nest/Morris Park': 36, 'Bronx,West Concourse': 37, 'Bronx,West Farms/Bronx River': 38, 'Bronx,Westchester Village/Unionport': 39, 'Bronx,Williamsbridge/Olinville': 40, 'Bronx,Woodlawn/Wakefield': 41, 'Brooklyn,Bath Beach': 42, 'Brooklyn,Bay Ridge': 43, 'Brooklyn,Bedford': 44, 'Brooklyn,Bensonhurst East': 45, 'Brooklyn,Bensonhurst West': 46, 'Brooklyn,Boerum Hill': 47, 'Brooklyn,Borough Park': 48, 'Brooklyn,Brighton Beach': 49, 'Brooklyn,Brooklyn Heights': 50, 'Brooklyn,Brooklyn Navy Yard': 51, 'Brooklyn,Brownsville': 52, 'Brooklyn,Bushwick North': 53, 'Brooklyn,Bushwick South': 54, 'Brooklyn,Canarsie': 55, 'Brooklyn,Carroll Gardens': 56, 'Brooklyn,Clinton Hill': 57, 'Brooklyn,Cobble Hill': 58, 'Brooklyn,Columbia Street': 59, 'Brooklyn,Coney Island': 60, 'Brooklyn,Crown Heights North': 61, 'Brooklyn,Crown Heights South': 62, 'Brooklyn,Cypress Hills': 63, 'Brooklyn,DUMBO/Vinegar Hill': 64, 'Brooklyn,Downtown Brooklyn/MetroTech': 65, 'Brooklyn,Dyker Heights': 66, 'Brooklyn,East Flatbush/Farragut': 67, 'Brooklyn,East Flatbush/Remsen Village': 68, 'Brooklyn,East New York': 69, 'Brooklyn,East New York/Pennsylvania Avenue': 70, 'Brooklyn,East Williamsburg': 71, 'Brooklyn,Erasmus': 72, 'Brooklyn,Flatbush/Ditmas Park': 73, 'Brooklyn,Flatlands': 74, 'Brooklyn,Fort Greene': 75, 'Brooklyn,Gowanus': 76, 'Brooklyn,Gravesend': 77, 'Brooklyn,Green-Wood Cemetery': 78, 'Brooklyn,Greenpoint': 79, 'Brooklyn,Homecrest': 80, 'Brooklyn,Kensington': 81, 'Brooklyn,Madison': 82, 'Brooklyn,Manhattan Beach': 83, 'Brooklyn,Marine Park/Floyd Bennett Field': 84, 'Brooklyn,Marine Park/Mill Basin': 85, 'Brooklyn,Midwood': 86, 'Brooklyn,Ocean Hill': 87, 'Brooklyn,Ocean Parkway South': 88, 'Brooklyn,Park Slope': 89, 'Brooklyn,Prospect Heights': 90, 'Brooklyn,Prospect Park': 91, 'Brooklyn,Prospect-Lefferts Gardens': 92, 'Brooklyn,Red Hook': 93, 'Brooklyn,Sheepshead Bay': 94, 'Brooklyn,South Williamsburg': 95, 'Brooklyn,Starrett City': 96, 'Brooklyn,Stuyvesant Heights': 97, 'Brooklyn,Sunset Park East': 98, 'Brooklyn,Sunset Park West': 99, 'Brooklyn,Williamsburg (North Side)': 100, 'Brooklyn,Williamsburg (South Side)': 101, 'Brooklyn,Windsor Terrace': 102, 'EWR,Newark Airport': 103, 'Manhattan,Bloomingdale': 104, 'Manhattan,Central Harlem': 105, 'Manhattan,Central Harlem North': 106, 'Manhattan,Central Park': 107, 'Manhattan,East Harlem North': 108, 'Manhattan,East Harlem South': 109, 'Manhattan,Hamilton Heights': 110, 'Manhattan,Highbridge Park': 111, 'Manhattan,Inwood': 112, 'Manhattan,Inwood Hill Park': 113, 'Manhattan,Manhattan Valley': 114, 'Manhattan,Manhattanville': 115, 'Manhattan,Marble Hill': 116, 'Manhattan,Midtown East': 117, 'Manhattan,Midtown North': 118, 'Manhattan,Midtown South': 119, 'Manhattan,Morningside Heights': 120, 'Manhattan,Murray Hill': 121, 'Manhattan,Randalls Island': 122, 'Manhattan,Roosevelt Island': 123, 'Manhattan,Sutton Place/Turtle Bay North': 124, 'Manhattan,TriBeCa/Civic Center': 125, 'Manhattan,Two Bridges/Seward Park': 126, 'Manhattan,Upper East Side North': 127, 'Manhattan,Washington Heights North': 128, 'Manhattan,Washington Heights South': 129, 'Manhattan,World Trade Center': 130, 'Manhattan,Yorkville East': 131, 'Manhattan,Yorkville West': 132, 'Queens,Astoria': 133, 'Queens,Astoria Park': 134, 'Queens,Auburndale': 135, 'Queens,Baisley Park': 136, 'Queens,Bay Terrace/Fort Totten': 137, 'Queens,Bayside': 138, 'Queens,Bellerose': 139, 'Queens,Breezy Point/Fort Tilden/Riis Beach': 140, 'Queens,Briarwood/Jamaica Hills': 141, 'Queens,Broad Channel': 142, 'Queens,Cambria Heights': 143, 'Queens,College Point': 144, 'Queens,Corona': 145, 'Queens,Douglaston': 146, 'Queens,East Elmhurst': 147, 'Queens,East Flushing': 148, 'Queens,Elmhurst': 149, 'Queens,Elmhurst/Maspeth': 150, 'Queens,Far Rockaway': 151, 'Queens,Flushing': 152, 'Queens,Flushing Meadows-Corona Park': 153, 'Queens,Forest Hills': 154, 'Queens,Forest Park/Highland Park': 155, 'Queens,Fresh Meadows': 156, 'Queens,Glen Oaks': 157, 'Queens,Glendale': 158, 'Queens,Hammels/Arverne': 159, 'Queens,Hillcrest/Pomonok': 160, 'Queens,Hollis': 161, 'Queens,Howard Beach': 162, 'Queens,JFK Airport': 163, 'Queens,Jackson Heights': 164, 'Queens,Jamaica': 165, 'Queens,Jamaica Bay': 166, 'Queens,Jamaica Estates': 167, 'Queens,Kew Gardens': 168, 'Queens,Kew Gardens Hills': 169, 'Queens,LaGuardia Airport': 170, 'Queens,Laurelton': 171, 'Queens,Long Island City/Hunters Point': 172, 'Queens,Long Island City/Queens Plaza': 173, 'Queens,Maspeth': 174, 'Queens,Middle Village': 175, 'Queens,Murray Hill-Queens': 176, 'Queens,North Corona': 177, 'Queens,Oakland Gardens': 178, 'Queens,Old Astoria': 179, 'Queens,Ozone Park': 180, 'Queens,Queens Village': 181, 'Queens,Queensboro Hill': 182, 'Queens,Queensbridge/Ravenswood': 183, 'Queens,Rego Park': 184, 'Queens,Richmond Hill': 185, 'Queens,Ridgewood': 186, 'Queens,Rockaway Park': 187, 'Queens,Rosedale': 188, 'Queens,Saint Albans': 189, 'Queens,Saint Michaels Cemetery/Woodside': 190, 'Queens,South Jamaica': 191, 'Queens,South Ozone Park': 192, 'Queens,Springfield Gardens North': 193, 'Queens,Springfield Gardens South': 194, 'Queens,Steinway': 195, 'Queens,Sunnyside': 196, 'Queens,Whitestone': 197, 'Queens,Willets Point': 198, 'Queens,Woodhaven': 199, 'Queens,Woodside': 200, 'Staten Island,Arrochar/Fort Wadsworth': 201, 'Staten Island,Bloomfield/Emerson Hill': 202, 'Staten Island,Grymes Hill/Clifton': 203, 'Staten Island,Heartland Village/Todt Hill': 204, 'Staten Island,Mariners Harbor': 205, 'Staten Island,Port Richmond': 206, 'Staten Island,Saint George/New Brighton': 207, 'Staten Island,South Beach/Dongan Hills': 208, 'Staten Island,Stapleton': 209, 'Staten Island,Westerleigh': 210, 'Unknown,NV': 211, 'Unknown,Unknown': 212}\n"
          ]
        },
        {
          "data": {
            "text/plain": [
              "108    15214\n",
              "105    15100\n",
              "100    14938\n",
              "133    14372\n",
              "109    12996\n",
              "       ...  \n",
              "126        1\n",
              "121        1\n",
              "130        1\n",
              "166        1\n",
              "202        1\n",
              "Name: pu_location_encoded, Length: 213, dtype: int64"
            ]
          },
          "execution_count": 151,
          "metadata": {},
          "output_type": "execute_result"
        }
      ],
      "source": [
        "data['pu_location_encoded'] = label_encoder.fit_transform(data['pu_location'])\n",
        "\n",
        "label_mapping = dict(zip(label_encoder.classes_, label_encoder.transform(label_encoder.classes_)))\n",
        "\n",
        "print(\"Pick Up Location Label mapping:\", label_mapping)\n",
        "\n",
        "data['pu_location_encoded'].value_counts()"
      ]
    },
    {
      "cell_type": "code",
      "execution_count": 152,
      "metadata": {
        "id": "okrzEyz4wKtG"
      },
      "outputs": [],
      "source": [
        "data.drop(columns=['pu_location'],inplace=True)"
      ]
    },
    {
      "cell_type": "code",
      "execution_count": 153,
      "metadata": {
        "colab": {
          "base_uri": "https://localhost:8080/"
        },
        "id": "VunoQwLXwG0s",
        "outputId": "94853a46-d576-4907-c68c-e13e0949efae"
      },
      "outputs": [
        {
          "name": "stdout",
          "output_type": "stream",
          "text": [
            "Drop Off Location Label mapping: {'Bronx,Allerton/Pelham Gardens': 0, 'Bronx,Bedford Park': 1, 'Bronx,Belmont': 2, 'Bronx,Bronx Park': 3, 'Bronx,Bronxdale': 4, 'Bronx,City Island': 5, 'Bronx,Claremont/Bathgate': 6, 'Bronx,Co-Op City': 7, 'Bronx,Country Club': 8, 'Bronx,Crotona Park': 9, 'Bronx,Crotona Park East': 10, 'Bronx,East Concourse/Concourse Village': 11, 'Bronx,East Tremont': 12, 'Bronx,Eastchester': 13, 'Bronx,Fordham South': 14, 'Bronx,Highbridge': 15, 'Bronx,Hunts Point': 16, 'Bronx,Kingsbridge Heights': 17, 'Bronx,Longwood': 18, 'Bronx,Melrose South': 19, 'Bronx,Morrisania/Melrose': 20, 'Bronx,Mott Haven/Port Morris': 21, 'Bronx,Mount Hope': 22, 'Bronx,Norwood': 23, 'Bronx,Parkchester': 24, 'Bronx,Pelham Bay': 25, 'Bronx,Pelham Bay Park': 26, 'Bronx,Pelham Parkway': 27, 'Bronx,Riverdale/North Riverdale/Fieldston': 28, 'Bronx,Schuylerville/Edgewater Park': 29, 'Bronx,Soundview/Bruckner': 30, 'Bronx,Soundview/Castle Hill': 31, 'Bronx,Spuyten Duyvil/Kingsbridge': 32, 'Bronx,University Heights/Morris Heights': 33, 'Bronx,Van Cortlandt Park': 34, 'Bronx,Van Cortlandt Village': 35, 'Bronx,Van Nest/Morris Park': 36, 'Bronx,West Concourse': 37, 'Bronx,West Farms/Bronx River': 38, 'Bronx,Westchester Village/Unionport': 39, 'Bronx,Williamsbridge/Olinville': 40, 'Bronx,Woodlawn/Wakefield': 41, 'Brooklyn,Bath Beach': 42, 'Brooklyn,Bay Ridge': 43, 'Brooklyn,Bedford': 44, 'Brooklyn,Bensonhurst East': 45, 'Brooklyn,Bensonhurst West': 46, 'Brooklyn,Boerum Hill': 47, 'Brooklyn,Borough Park': 48, 'Brooklyn,Brighton Beach': 49, 'Brooklyn,Brooklyn Heights': 50, 'Brooklyn,Brooklyn Navy Yard': 51, 'Brooklyn,Brownsville': 52, 'Brooklyn,Bushwick North': 53, 'Brooklyn,Bushwick South': 54, 'Brooklyn,Canarsie': 55, 'Brooklyn,Carroll Gardens': 56, 'Brooklyn,Clinton Hill': 57, 'Brooklyn,Cobble Hill': 58, 'Brooklyn,Columbia Street': 59, 'Brooklyn,Coney Island': 60, 'Brooklyn,Crown Heights North': 61, 'Brooklyn,Crown Heights South': 62, 'Brooklyn,Cypress Hills': 63, 'Brooklyn,DUMBO/Vinegar Hill': 64, 'Brooklyn,Downtown Brooklyn/MetroTech': 65, 'Brooklyn,Dyker Heights': 66, 'Brooklyn,East Flatbush/Farragut': 67, 'Brooklyn,East Flatbush/Remsen Village': 68, 'Brooklyn,East New York': 69, 'Brooklyn,East New York/Pennsylvania Avenue': 70, 'Brooklyn,East Williamsburg': 71, 'Brooklyn,Erasmus': 72, 'Brooklyn,Flatbush/Ditmas Park': 73, 'Brooklyn,Flatlands': 74, 'Brooklyn,Fort Greene': 75, 'Brooklyn,Gowanus': 76, 'Brooklyn,Gravesend': 77, 'Brooklyn,Green-Wood Cemetery': 78, 'Brooklyn,Greenpoint': 79, 'Brooklyn,Homecrest': 80, 'Brooklyn,Kensington': 81, 'Brooklyn,Madison': 82, 'Brooklyn,Manhattan Beach': 83, 'Brooklyn,Marine Park/Floyd Bennett Field': 84, 'Brooklyn,Marine Park/Mill Basin': 85, 'Brooklyn,Midwood': 86, 'Brooklyn,Ocean Hill': 87, 'Brooklyn,Ocean Parkway South': 88, 'Brooklyn,Park Slope': 89, 'Brooklyn,Prospect Heights': 90, 'Brooklyn,Prospect Park': 91, 'Brooklyn,Prospect-Lefferts Gardens': 92, 'Brooklyn,Red Hook': 93, 'Brooklyn,Sheepshead Bay': 94, 'Brooklyn,South Williamsburg': 95, 'Brooklyn,Starrett City': 96, 'Brooklyn,Stuyvesant Heights': 97, 'Brooklyn,Sunset Park East': 98, 'Brooklyn,Sunset Park West': 99, 'Brooklyn,Williamsburg (North Side)': 100, 'Brooklyn,Williamsburg (South Side)': 101, 'Brooklyn,Windsor Terrace': 102, 'EWR,Newark Airport': 103, 'Manhattan,Alphabet City': 104, 'Manhattan,Battery Park': 105, 'Manhattan,Battery Park City': 106, 'Manhattan,Bloomingdale': 107, 'Manhattan,Central Harlem': 108, 'Manhattan,Central Harlem North': 109, 'Manhattan,Central Park': 110, 'Manhattan,Chinatown': 111, 'Manhattan,Clinton East': 112, 'Manhattan,Clinton West': 113, 'Manhattan,East Chelsea': 114, 'Manhattan,East Harlem North': 115, 'Manhattan,East Harlem South': 116, 'Manhattan,East Village': 117, 'Manhattan,Financial District North': 118, 'Manhattan,Financial District South': 119, 'Manhattan,Flatiron': 120, 'Manhattan,Garment District': 121, 'Manhattan,Gramercy': 122, 'Manhattan,Greenwich Village North': 123, 'Manhattan,Greenwich Village South': 124, 'Manhattan,Hamilton Heights': 125, 'Manhattan,Highbridge Park': 126, 'Manhattan,Hudson Sq': 127, 'Manhattan,Inwood': 128, 'Manhattan,Inwood Hill Park': 129, 'Manhattan,Kips Bay': 130, 'Manhattan,Lenox Hill East': 131, 'Manhattan,Lenox Hill West': 132, 'Manhattan,Lincoln Square East': 133, 'Manhattan,Lincoln Square West': 134, 'Manhattan,Little Italy/NoLiTa': 135, 'Manhattan,Lower East Side': 136, 'Manhattan,Manhattan Valley': 137, 'Manhattan,Manhattanville': 138, 'Manhattan,Marble Hill': 139, 'Manhattan,Meatpacking/West Village West': 140, 'Manhattan,Midtown Center': 141, 'Manhattan,Midtown East': 142, 'Manhattan,Midtown North': 143, 'Manhattan,Midtown South': 144, 'Manhattan,Morningside Heights': 145, 'Manhattan,Murray Hill': 146, 'Manhattan,Penn Station/Madison Sq West': 147, 'Manhattan,Randalls Island': 148, 'Manhattan,Roosevelt Island': 149, 'Manhattan,Seaport': 150, 'Manhattan,SoHo': 151, 'Manhattan,Stuy Town/Peter Cooper Village': 152, 'Manhattan,Sutton Place/Turtle Bay North': 153, 'Manhattan,Times Sq/Theatre District': 154, 'Manhattan,TriBeCa/Civic Center': 155, 'Manhattan,Two Bridges/Seward Park': 156, 'Manhattan,UN/Turtle Bay South': 157, 'Manhattan,Union Sq': 158, 'Manhattan,Upper East Side North': 159, 'Manhattan,Upper East Side South': 160, 'Manhattan,Upper West Side North': 161, 'Manhattan,Upper West Side South': 162, 'Manhattan,Washington Heights North': 163, 'Manhattan,Washington Heights South': 164, 'Manhattan,West Chelsea/Hudson Yards': 165, 'Manhattan,West Village': 166, 'Manhattan,World Trade Center': 167, 'Manhattan,Yorkville East': 168, 'Manhattan,Yorkville West': 169, 'Queens,Astoria': 170, 'Queens,Astoria Park': 171, 'Queens,Auburndale': 172, 'Queens,Baisley Park': 173, 'Queens,Bay Terrace/Fort Totten': 174, 'Queens,Bayside': 175, 'Queens,Bellerose': 176, 'Queens,Breezy Point/Fort Tilden/Riis Beach': 177, 'Queens,Briarwood/Jamaica Hills': 178, 'Queens,Broad Channel': 179, 'Queens,Cambria Heights': 180, 'Queens,College Point': 181, 'Queens,Corona': 182, 'Queens,Douglaston': 183, 'Queens,East Elmhurst': 184, 'Queens,East Flushing': 185, 'Queens,Elmhurst': 186, 'Queens,Elmhurst/Maspeth': 187, 'Queens,Far Rockaway': 188, 'Queens,Flushing': 189, 'Queens,Flushing Meadows-Corona Park': 190, 'Queens,Forest Hills': 191, 'Queens,Forest Park/Highland Park': 192, 'Queens,Fresh Meadows': 193, 'Queens,Glen Oaks': 194, 'Queens,Glendale': 195, 'Queens,Hammels/Arverne': 196, 'Queens,Hillcrest/Pomonok': 197, 'Queens,Hollis': 198, 'Queens,Howard Beach': 199, 'Queens,JFK Airport': 200, 'Queens,Jackson Heights': 201, 'Queens,Jamaica': 202, 'Queens,Jamaica Estates': 203, 'Queens,Kew Gardens': 204, 'Queens,Kew Gardens Hills': 205, 'Queens,LaGuardia Airport': 206, 'Queens,Laurelton': 207, 'Queens,Long Island City/Hunters Point': 208, 'Queens,Long Island City/Queens Plaza': 209, 'Queens,Maspeth': 210, 'Queens,Middle Village': 211, 'Queens,Murray Hill-Queens': 212, 'Queens,North Corona': 213, 'Queens,Oakland Gardens': 214, 'Queens,Old Astoria': 215, 'Queens,Ozone Park': 216, 'Queens,Queens Village': 217, 'Queens,Queensboro Hill': 218, 'Queens,Queensbridge/Ravenswood': 219, 'Queens,Rego Park': 220, 'Queens,Richmond Hill': 221, 'Queens,Ridgewood': 222, 'Queens,Rockaway Park': 223, 'Queens,Rosedale': 224, 'Queens,Saint Albans': 225, 'Queens,Saint Michaels Cemetery/Woodside': 226, 'Queens,South Jamaica': 227, 'Queens,South Ozone Park': 228, 'Queens,Springfield Gardens North': 229, 'Queens,Springfield Gardens South': 230, 'Queens,Steinway': 231, 'Queens,Sunnyside': 232, 'Queens,Whitestone': 233, 'Queens,Willets Point': 234, 'Queens,Woodhaven': 235, 'Queens,Woodside': 236, 'Staten Island,Arrochar/Fort Wadsworth': 237, 'Staten Island,Bloomfield/Emerson Hill': 238, 'Staten Island,Charleston/Tottenville': 239, \"Staten Island,Eltingville/Annadale/Prince's Bay\": 240, 'Staten Island,Great Kills': 241, 'Staten Island,Grymes Hill/Clifton': 242, 'Staten Island,Heartland Village/Todt Hill': 243, 'Staten Island,Mariners Harbor': 244, 'Staten Island,New Dorp/Midland Beach': 245, 'Staten Island,Port Richmond': 246, 'Staten Island,Rossville/Woodrow': 247, 'Staten Island,Saint George/New Brighton': 248, 'Staten Island,South Beach/Dongan Hills': 249, 'Staten Island,Stapleton': 250, 'Staten Island,West Brighton': 251, 'Staten Island,Westerleigh': 252, 'Unknown,NV': 253, 'Unknown,Unknown': 254}\n"
          ]
        },
        {
          "data": {
            "text/plain": [
              "170    9240\n",
              "109    9013\n",
              "115    8791\n",
              "201    8600\n",
              "108    7780\n",
              "       ... \n",
              "245       3\n",
              "252       2\n",
              "240       2\n",
              "239       1\n",
              "247       1\n",
              "Name: do_location_encoded, Length: 255, dtype: int64"
            ]
          },
          "execution_count": 153,
          "metadata": {},
          "output_type": "execute_result"
        }
      ],
      "source": [
        "data['do_location_encoded'] = label_encoder.fit_transform(data['do_location'])\n",
        "\n",
        "label_mapping = dict(zip(label_encoder.classes_, label_encoder.transform(label_encoder.classes_)))\n",
        "\n",
        "print(\"Drop Off Location Label mapping:\", label_mapping)\n",
        "\n",
        "data['do_location_encoded'].value_counts()"
      ]
    },
    {
      "cell_type": "code",
      "execution_count": 154,
      "metadata": {
        "id": "aM1HONYjwK_g"
      },
      "outputs": [],
      "source": [
        "data.drop(columns=['do_location'],inplace=True)"
      ]
    },
    {
      "cell_type": "markdown",
      "metadata": {
        "id": "iq-agzzLsTMN"
      },
      "source": [
        "1.6 Trip Type"
      ]
    },
    {
      "cell_type": "code",
      "execution_count": 155,
      "metadata": {
        "colab": {
          "base_uri": "https://localhost:8080/"
        },
        "id": "pZJg72u2wzRY",
        "outputId": "69edb1fc-5293-4169-db7e-b061a0afa475"
      },
      "outputs": [
        {
          "name": "stdout",
          "output_type": "stream",
          "text": [
            "Trip Type Label mapping: {'Dispatch': 0, 'Street-hail': 1}\n"
          ]
        },
        {
          "data": {
            "text/plain": [
              "1    301213\n",
              "0      7119\n",
              "Name: trip_type_encoded, dtype: int64"
            ]
          },
          "execution_count": 155,
          "metadata": {},
          "output_type": "execute_result"
        }
      ],
      "source": [
        "data['trip_type_encoded'] = label_encoder.fit_transform(data['trip_type'])\n",
        "\n",
        "label_mapping = dict(zip(label_encoder.classes_, label_encoder.transform(label_encoder.classes_)))\n",
        "\n",
        "print(\"Trip Type Label mapping:\", label_mapping)\n",
        "\n",
        "data['trip_type_encoded'].value_counts()"
      ]
    },
    {
      "cell_type": "code",
      "execution_count": 156,
      "metadata": {
        "id": "nkucnPjQxbwW"
      },
      "outputs": [],
      "source": [
        "data.drop(columns=['trip_type'],inplace=True)"
      ]
    },
    {
      "cell_type": "markdown",
      "metadata": {
        "id": "6FPrfVIar4z0"
      },
      "source": [
        "1.7 Payment Type"
      ]
    },
    {
      "cell_type": "code",
      "execution_count": 157,
      "metadata": {
        "id": "s36W0TVxuADk"
      },
      "outputs": [],
      "source": [
        "data['payment_type'] =  data['payment_type'].fillna(data['payment_type'].mode()[0])"
      ]
    },
    {
      "cell_type": "markdown",
      "metadata": {
        "id": "ckYMQfcxuGEZ"
      },
      "source": [
        "The missing cells in this feature are filled based on the mode of the feature."
      ]
    },
    {
      "cell_type": "code",
      "execution_count": 159,
      "metadata": {
        "colab": {
          "base_uri": "https://localhost:8080/"
        },
        "id": "16alkhvPw8tI",
        "outputId": "309892c2-b717-4784-f456-0a9857c435af"
      },
      "outputs": [
        {
          "name": "stdout",
          "output_type": "stream",
          "text": [
            "Payment Type Label mapping: {'Cash': 0, 'Credit card': 1, 'Dispute': 2, 'No charge': 3, 'Uknown': 4}\n"
          ]
        },
        {
          "data": {
            "text/plain": [
              "0    172629\n",
              "1    133749\n",
              "3      1051\n",
              "2       895\n",
              "4         8\n",
              "Name: payment_type_encoded, dtype: int64"
            ]
          },
          "execution_count": 159,
          "metadata": {},
          "output_type": "execute_result"
        }
      ],
      "source": [
        "data['payment_type_encoded'] = label_encoder.fit_transform(data['payment_type'])\n",
        "\n",
        "label_mapping = dict(zip(label_encoder.classes_, label_encoder.transform(label_encoder.classes_)))\n",
        "\n",
        "print(\"Payment Type Label mapping:\", label_mapping)\n",
        "\n",
        "data['payment_type_encoded'].value_counts()"
      ]
    },
    {
      "cell_type": "code",
      "execution_count": 160,
      "metadata": {
        "id": "nnFhM1-wxZmz"
      },
      "outputs": [],
      "source": [
        "data.drop(columns=['payment_type'],inplace=True)"
      ]
    },
    {
      "cell_type": "markdown",
      "metadata": {
        "id": "85r_-GKrwlDz"
      },
      "source": [
        "**2. Quantitative Features**"
      ]
    },
    {
      "cell_type": "markdown",
      "metadata": {
        "id": "JIr2Uh7gr5OZ"
      },
      "source": [
        "2.1 Ehail Fee and Congestion Surcharge"
      ]
    },
    {
      "cell_type": "code",
      "execution_count": 161,
      "metadata": {
        "colab": {
          "base_uri": "https://localhost:8080/"
        },
        "id": "VDuATIxiUZ22",
        "outputId": "c957f5c8-0faf-48a2-9961-dbae937778be"
      },
      "outputs": [
        {
          "name": "stdout",
          "output_type": "stream",
          "text": [
            "<class 'pandas.core.frame.DataFrame'>\n",
            "Int64Index: 308332 entries, 0 to 308332\n",
            "Data columns (total 22 columns):\n",
            " #   Column                      Non-Null Count   Dtype  \n",
            "---  ------                      --------------   -----  \n",
            " 0   passenger_count             308240 non-null  float64\n",
            " 1   trip_distance               308332 non-null  float64\n",
            " 2   fare_amount                 308332 non-null  float64\n",
            " 3   extra                       193056 non-null  float64\n",
            " 4   mta_tax                     308332 non-null  float64\n",
            " 5   tip_amount                  308332 non-null  float64\n",
            " 6   tolls_amount                308332 non-null  float64\n",
            " 7   ehail_fee                   0 non-null       float64\n",
            " 8   improvement_surcharge       308332 non-null  float64\n",
            " 9   total_amount                308332 non-null  float64\n",
            " 10  congestion_surcharge        0 non-null       float64\n",
            " 11  vendor_encoded              308332 non-null  int32  \n",
            " 12  rush_hour                   308332 non-null  int64  \n",
            " 13  pick_up_time                308332 non-null  int64  \n",
            " 14  trip_duration_seconds       308332 non-null  float64\n",
            " 15  trip_dow_name_encoded       308332 non-null  int32  \n",
            " 16  store_and_fwd_flag_encoded  308332 non-null  int32  \n",
            " 17  rate_type_encoded           308332 non-null  int32  \n",
            " 18  pu_location_encoded         308332 non-null  int32  \n",
            " 19  do_location_encoded         308332 non-null  int32  \n",
            " 20  trip_type_encoded           308332 non-null  int32  \n",
            " 21  payment_type_encoded        308332 non-null  int32  \n",
            "dtypes: float64(12), int32(8), int64(2)\n",
            "memory usage: 44.7 MB\n"
          ]
        }
      ],
      "source": [
        "data.info()"
      ]
    },
    {
      "cell_type": "markdown",
      "metadata": {
        "id": "wkUvwhGmUfPj"
      },
      "source": [
        "As mentioned earlier and shown above, these 2 features are empty, hence, they will be dropped."
      ]
    },
    {
      "cell_type": "code",
      "execution_count": 162,
      "metadata": {
        "id": "TqbtLol2Sots"
      },
      "outputs": [],
      "source": [
        "data.drop(columns = ['ehail_fee', 'congestion_surcharge'], inplace = True)"
      ]
    },
    {
      "cell_type": "markdown",
      "metadata": {
        "id": "8HFdDktIls0m"
      },
      "source": [
        "**Correlation Heat Map**"
      ]
    },
    {
      "cell_type": "markdown",
      "metadata": {
        "id": "1cWNSZ_qU3CJ"
      },
      "source": [
        "Correlation between the quantitative data is obtained to give insight on the features and determine if any of the features can be dropped."
      ]
    },
    {
      "cell_type": "code",
      "execution_count": 163,
      "metadata": {
        "colab": {
          "base_uri": "https://localhost:8080/",
          "height": 591
        },
        "id": "2A_4ebpklxGO",
        "outputId": "f6a00c32-1df7-45a2-81dd-278e7537aae2"
      },
      "outputs": [
        {
          "data": {
            "text/plain": [
              "<Axes: >"
            ]
          },
          "execution_count": 163,
          "metadata": {},
          "output_type": "execute_result"
        },
        {
          "data": {
            "image/png": "[encoded data removed]",
            "text/plain": [
              "<Figure size 640x480 with 2 Axes>"
            ]
          },
          "metadata": {},
          "output_type": "display_data"
        }
      ],
      "source": [
        "colormap = plt.cm.RdBu\n",
        "sns.heatmap(data[['tip_amount', 'fare_amount', 'trip_distance', 'passenger_count','tolls_amount','trip_duration_seconds','total_amount']].corr(),\n",
        "            linewidths=0.1,\n",
        "            vmax=1.0,\n",
        "            square=True,\n",
        "            cmap = colormap,\n",
        "            linecolor='white',\n",
        "            annot=True)"
      ]
    },
    {
      "cell_type": "markdown",
      "metadata": {
        "id": "dAbFOqY9W0pJ"
      },
      "source": [
        "There is a relatively high correlation between *fare_amount* and *trip_distance*. However, because they are also highly correlated with our output ***total_amount***, they cannot be dropped because of their importance.\n",
        "\n",
        "*Passenger_count* has very small correlation with all the features, most importantly, the ***total_amount*** feature. Therefore, it will be dropped because it provides no significance to the output."
      ]
    },
    {
      "cell_type": "code",
      "execution_count": 164,
      "metadata": {
        "id": "4_PNwVtJXZS0"
      },
      "outputs": [],
      "source": [
        "data.drop(columns=['passenger_count'],inplace=True)"
      ]
    },
    {
      "cell_type": "markdown",
      "metadata": {
        "id": "ohaULQuWq2Lp"
      },
      "source": [
        "2.2 Trip Distance"
      ]
    },
    {
      "cell_type": "code",
      "execution_count": 165,
      "metadata": {
        "colab": {
          "base_uri": "https://localhost:8080/"
        },
        "id": "2ZcHJRm4NSEJ",
        "outputId": "58a954a1-f27c-4141-95b2-0ad72fc4e141"
      },
      "outputs": [
        {
          "name": "stdout",
          "output_type": "stream",
          "text": [
            "using 2 to determine outliers\n",
            "\n",
            "trip_distance Q1: 1.1\n",
            "trip_distance lower limit: -4.18\n",
            "trip_distance contains 0 records below the lower limit\n",
            "\n",
            "trip_distance Q3: 3.74\n",
            "upper limit: 9.02\n",
            "trip_distance contains 13884 records above the upper limit\n",
            "\n",
            "trip_distance contains 13884 total outliers\n",
            "this represents 0.05 of the data\n"
          ]
        }
      ],
      "source": [
        "ll_trip_distance, ul_trip_distance = calc_iqr(df=data, col='trip_distance', multiplier=2)"
      ]
    },
    {
      "cell_type": "code",
      "execution_count": 166,
      "metadata": {
        "id": "faaG-MfUNS8C"
      },
      "outputs": [],
      "source": [
        "trip_distance_outliers = data[(data.trip_distance < ll_trip_distance) | (data.trip_distance > ul_trip_distance)]\n",
        "data.drop(trip_distance_outliers.index, inplace=True)"
      ]
    },
    {
      "cell_type": "code",
      "execution_count": 167,
      "metadata": {
        "id": "8S3WowytSVF1"
      },
      "outputs": [],
      "source": [
        "trip_distance = data[['trip_distance']]\n",
        "\n",
        "data['trip_distance'] = scaler.fit_transform(trip_distance)"
      ]
    },
    {
      "cell_type": "markdown",
      "metadata": {
        "id": "ADPnNaw4rcCc"
      },
      "source": [
        "2.3 Tolls Amount"
      ]
    },
    {
      "cell_type": "code",
      "execution_count": 168,
      "metadata": {
        "colab": {
          "base_uri": "https://localhost:8080/"
        },
        "id": "pikuEMCpVuVn",
        "outputId": "38493a28-cb6c-440f-f502-dfb259f838ff"
      },
      "outputs": [
        {
          "name": "stdout",
          "output_type": "stream",
          "text": [
            "[0.000e+00 5.540e+00 8.000e+00 1.108e+01 2.540e+00 1.500e+00 1.175e+01\n",
            " 5.330e+00 9.750e+00 1.000e-02 2.000e+00 4.000e+00 2.080e+00 9.000e+00\n",
            " 5.000e-01 1.000e+00 1.180e+01 7.000e+00 6.000e+00 2.340e+00 1.050e+01\n",
            " 4.160e+00 5.000e+01 1.662e+01 1.100e+01 4.500e+00 6.060e+00 3.420e+01\n",
            " 5.550e+00 2.283e+01 8.000e-01 1.500e+01 3.000e+00 1.529e+01 8.080e+00\n",
            " 5.500e+00 2.375e+01]\n"
          ]
        }
      ],
      "source": [
        "unique_values = data['tolls_amount'].unique()\n",
        "\n",
        "print(unique_values)"
      ]
    },
    {
      "cell_type": "code",
      "execution_count": 169,
      "metadata": {
        "colab": {
          "base_uri": "https://localhost:8080/"
        },
        "id": "1c8QQ4LfVYy3",
        "outputId": "c15c97f0-ad82-4bc6-ad66-063f832cbd77"
      },
      "outputs": [
        {
          "name": "stdout",
          "output_type": "stream",
          "text": [
            "using 2 to determine outliers\n",
            "\n",
            "tolls_amount Q1: 0.0\n",
            "tolls_amount lower limit: 0.0\n",
            "tolls_amount contains 0 records below the lower limit\n",
            "\n",
            "tolls_amount Q3: 0.0\n",
            "upper limit: 0.0\n",
            "tolls_amount contains 3444 records above the upper limit\n",
            "\n",
            "tolls_amount contains 3444 total outliers\n",
            "this represents 0.01 of the data\n"
          ]
        }
      ],
      "source": [
        "ll_tolls_amount, ul_tolls_amount = calc_iqr(df=data, col='tolls_amount', multiplier=2)"
      ]
    },
    {
      "cell_type": "markdown",
      "metadata": {},
      "source": [
        "Since all of the tolls_amount data is considered outliers due to the IQR, its 'outliers' will not be dropped."
      ]
    },
    {
      "cell_type": "code",
      "execution_count": 171,
      "metadata": {
        "id": "xdQWE654VYix"
      },
      "outputs": [],
      "source": [
        "tolls_amount = data[['tolls_amount']]\n",
        "\n",
        "data['tolls_amount'] = scaler.fit_transform(tolls_amount)"
      ]
    },
    {
      "cell_type": "markdown",
      "metadata": {
        "id": "cl5sWIYNq2Ad"
      },
      "source": [
        "2.4 Fare Amount"
      ]
    },
    {
      "cell_type": "code",
      "execution_count": 173,
      "metadata": {
        "colab": {
          "base_uri": "https://localhost:8080/"
        },
        "id": "Je3XjPGmNxj5",
        "outputId": "e256d1b2-91f0-4ec0-f86c-ec460d026fef"
      },
      "outputs": [
        {
          "name": "stdout",
          "output_type": "stream",
          "text": [
            "using 2 to determine outliers\n",
            "\n",
            "fare_amount Q1: 6.5\n",
            "fare_amount lower limit: -9.5\n",
            "fare_amount contains 59 records below the lower limit\n",
            "\n",
            "fare_amount Q3: 14.5\n",
            "upper limit: 30.5\n",
            "fare_amount contains 3363 records above the upper limit\n",
            "\n",
            "fare_amount contains 3422 total outliers\n",
            "this represents 0.01 of the data\n"
          ]
        }
      ],
      "source": [
        "ll_fare_amount, ul_fare_amount = calc_iqr(df=data, col='fare_amount', multiplier=2)"
      ]
    },
    {
      "cell_type": "code",
      "execution_count": 174,
      "metadata": {
        "id": "5rNgIeiCNyX0"
      },
      "outputs": [],
      "source": [
        "fare_amount_outliers = data[(data.fare_amount < ll_fare_amount) | (data.fare_amount > ul_fare_amount)]\n",
        "data.drop(fare_amount_outliers.index, inplace=True)"
      ]
    },
    {
      "cell_type": "code",
      "execution_count": 175,
      "metadata": {
        "id": "AAfjzuNwTTGz"
      },
      "outputs": [],
      "source": [
        "fare_amount = data[['fare_amount']]\n",
        "\n",
        "data['fare_amount'] = scaler.fit_transform(fare_amount)"
      ]
    },
    {
      "cell_type": "markdown",
      "metadata": {
        "id": "4u5Y7gcAq1sr"
      },
      "source": [
        "2.5 Extra"
      ]
    },
    {
      "cell_type": "code",
      "execution_count": 176,
      "metadata": {
        "id": "W5dQ3RQXsmJR"
      },
      "outputs": [],
      "source": [
        "data['extra'] = np.where((data['rush_hour'] == 1) & (data['extra'].isna()), 1, data['extra'])\n",
        "data['extra'] = np.where((data['pick_up_time'] == 0) &  (data['pick_up_time'] == 1) & (data['pick_up_time'] == 2) & (data['pick_up_time'] == 3) & (data['pick_up_time'] == 4) & (data['pick_up_time'] == 5)  & (data['extra'].isna()), 1, data['extra'])\n",
        "data['extra'] =  data['extra'].fillna(0.5)"
      ]
    },
    {
      "cell_type": "markdown",
      "metadata": {
        "id": "xTHC7rnTstb2"
      },
      "source": [
        "The missing cells in the extra feature are set to 1 during rush hour and due to overnight charges. Otherwise, it is set to 0.5."
      ]
    },
    {
      "cell_type": "markdown",
      "metadata": {
        "id": "tw-wjMv8S-ZL"
      },
      "source": [
        "This feature only has values 0.5 and 1, hence it does not need normalization."
      ]
    },
    {
      "cell_type": "markdown",
      "metadata": {
        "id": "lP20jTAxrcIp"
      },
      "source": [
        "2.6 MTA Tax and Improvement Surcharge"
      ]
    },
    {
      "cell_type": "code",
      "execution_count": 177,
      "metadata": {
        "colab": {
          "base_uri": "https://localhost:8080/"
        },
        "id": "JhqSAD4ngFem",
        "outputId": "45ad8fb8-35b5-4c0d-d840-2a03c371ae33"
      },
      "outputs": [
        {
          "data": {
            "text/plain": [
              " 0.5    284521\n",
              " 0.0      6065\n",
              "-0.5       439\n",
              " 1.0         1\n",
              "Name: mta_tax, dtype: int64"
            ]
          },
          "execution_count": 177,
          "metadata": {},
          "output_type": "execute_result"
        }
      ],
      "source": [
        "data['mta_tax'].value_counts()"
      ]
    },
    {
      "cell_type": "markdown",
      "metadata": {
        "id": "DGyV6cbWStHH"
      },
      "source": [
        "These features are already within the range [0,1], hence they do not need normalization."
      ]
    },
    {
      "cell_type": "markdown",
      "metadata": {
        "id": "LByxqFjVrcFN"
      },
      "source": [
        "2.7 Tip Amount"
      ]
    },
    {
      "cell_type": "code",
      "execution_count": 178,
      "metadata": {
        "colab": {
          "base_uri": "https://localhost:8080/"
        },
        "id": "QRCRAtGRM_8E",
        "outputId": "9f3ce691-1711-46f1-ed8b-0c5b426e540b"
      },
      "outputs": [
        {
          "name": "stdout",
          "output_type": "stream",
          "text": [
            "using 2 to determine outliers\n",
            "\n",
            "tip_amount Q1: 0.0\n",
            "tip_amount lower limit: -3.72\n",
            "tip_amount contains 0 records below the lower limit\n",
            "\n",
            "tip_amount Q3: 1.86\n",
            "upper limit: 5.58\n",
            "tip_amount contains 5291 records above the upper limit\n",
            "\n",
            "tip_amount contains 5291 total outliers\n",
            "this represents 0.02 of the data\n"
          ]
        }
      ],
      "source": [
        "ll_tip_amount, ul_tip_amount = calc_iqr(df=data, col='tip_amount', multiplier=2)"
      ]
    },
    {
      "cell_type": "code",
      "execution_count": 179,
      "metadata": {
        "id": "nKIb-QG8NCVi"
      },
      "outputs": [],
      "source": [
        "tip_amount_outliers = data[(data.tip_amount < ll_tip_amount) | (data.tip_amount > ul_tip_amount)]\n",
        "data.drop(tip_amount_outliers.index, inplace=True)"
      ]
    },
    {
      "cell_type": "code",
      "execution_count": 180,
      "metadata": {
        "id": "u1OOA40gTa78"
      },
      "outputs": [],
      "source": [
        "tip_amount = data[['tip_amount']]\n",
        "\n",
        "data['tip_amount'] = scaler.fit_transform(tip_amount)"
      ]
    },
    {
      "cell_type": "markdown",
      "metadata": {
        "id": "PC4duzjIr4_U"
      },
      "source": [
        "2.8 Total Amount"
      ]
    },
    {
      "cell_type": "code",
      "execution_count": 181,
      "metadata": {
        "colab": {
          "base_uri": "https://localhost:8080/"
        },
        "collapsed": true,
        "id": "OQRAEwOyPiey",
        "outputId": "d70f2c39-8844-4e09-f7cb-9fab515874e8"
      },
      "outputs": [
        {
          "name": "stdout",
          "output_type": "stream",
          "text": [
            "using 2 to determine outliers\n",
            "\n",
            "total_amount Q1: 7.8\n",
            "total_amount lower limit: -8.71\n",
            "total_amount contains 6 records below the lower limit\n",
            "\n",
            "total_amount Q3: 16.055\n",
            "upper limit: 32.56\n",
            "total_amount contains 1483 records above the upper limit\n",
            "\n",
            "total_amount contains 1489 total outliers\n",
            "this represents 0.01 of the data\n"
          ]
        }
      ],
      "source": [
        "ll_total_amount, ul_total_amount = calc_iqr(df=data, col='total_amount', multiplier=2)"
      ]
    },
    {
      "cell_type": "code",
      "execution_count": 182,
      "metadata": {
        "id": "9zuIRulCOElq"
      },
      "outputs": [],
      "source": [
        "total_amount_outliers = data[(data.total_amount < ll_total_amount) | (data.total_amount > ul_total_amount)]\n",
        "data.drop(total_amount_outliers.index, inplace=True)"
      ]
    },
    {
      "cell_type": "code",
      "execution_count": 183,
      "metadata": {},
      "outputs": [],
      "source": [
        "#drop negative\n",
        "neg_ind = data[(data['total_amount'] < 0)].index\n",
        "data = data.drop(neg_ind)"
      ]
    },
    {
      "cell_type": "code",
      "execution_count": 184,
      "metadata": {
        "colab": {
          "base_uri": "https://localhost:8080/"
        },
        "id": "M-Xv6vGFObli",
        "outputId": "df84a6d3-9a44-45ab-ec59-e591a469b603"
      },
      "outputs": [
        {
          "name": "stdout",
          "output_type": "stream",
          "text": [
            "30th percentile: 8.3\n",
            "60th percentile (median): 12.74\n",
            "90th percentile: 22.0\n",
            "<class 'pandas.core.frame.DataFrame'>\n",
            "Int64Index: 283802 entries, 0 to 308332\n",
            "Data columns (total 20 columns):\n",
            " #   Column                      Non-Null Count   Dtype   \n",
            "---  ------                      --------------   -----   \n",
            " 0   trip_distance               283802 non-null  float64 \n",
            " 1   fare_amount                 283802 non-null  float64 \n",
            " 2   extra                       283802 non-null  float64 \n",
            " 3   mta_tax                     283802 non-null  float64 \n",
            " 4   tip_amount                  283802 non-null  float64 \n",
            " 5   tolls_amount                283802 non-null  float64 \n",
            " 6   improvement_surcharge       283802 non-null  float64 \n",
            " 7   total_amount                283802 non-null  float64 \n",
            " 8   vendor_encoded              283802 non-null  int32   \n",
            " 9   rush_hour                   283802 non-null  int64   \n",
            " 10  pick_up_time                283802 non-null  int64   \n",
            " 11  trip_duration_seconds       283802 non-null  float64 \n",
            " 12  trip_dow_name_encoded       283802 non-null  int32   \n",
            " 13  store_and_fwd_flag_encoded  283802 non-null  int32   \n",
            " 14  rate_type_encoded           283802 non-null  int32   \n",
            " 15  pu_location_encoded         283802 non-null  int32   \n",
            " 16  do_location_encoded         283802 non-null  int32   \n",
            " 17  trip_type_encoded           283802 non-null  int32   \n",
            " 18  payment_type_encoded        283802 non-null  int32   \n",
            " 19  price_category              283802 non-null  category\n",
            "dtypes: category(1), float64(9), int32(8), int64(2)\n",
            "memory usage: 34.9 MB\n"
          ]
        },
        {
          "data": {
            "text/plain": [
              "medium    181985\n",
              "low        73413\n",
              "high       28404\n",
              "Name: price_category, dtype: int64"
            ]
          },
          "execution_count": 184,
          "metadata": {},
          "output_type": "execute_result"
        }
      ],
      "source": [
        "#Categorizing the data into low, medium, high based on percentiles\n",
        "\n",
        "#Get percentiles\n",
        "percentiles = data['total_amount'].quantile([0.3, 0.6, 0.9])\n",
        "print(f\"30th percentile: {percentiles[0.3]}\")\n",
        "print(f\"60th percentile (median): {percentiles[0.60]}\")\n",
        "print(f\"90th percentile: {percentiles[0.9]}\")\n",
        "\n",
        "#categorize the data ====> 0:8 --> low , 8:22 --> mid , 22+ --> high\n",
        "bins = [0, 8, 22, float('inf')]\n",
        "labels = ['low', 'medium', 'high']\n",
        "price_category = pd.cut(data['total_amount'], bins=bins, labels=labels, right=False)\n",
        "data['price_category'] = price_category\n",
        "\n",
        "\n",
        "data.info()\n",
        "data['price_category'].value_counts()"
      ]
    },
    {
      "cell_type": "code",
      "execution_count": 185,
      "metadata": {
        "id": "XsQhLke2Qs6Z"
      },
      "outputs": [],
      "source": [
        "data.drop(columns=['total_amount'],inplace=True)"
      ]
    },
    {
      "cell_type": "code",
      "execution_count": 186,
      "metadata": {
        "colab": {
          "base_uri": "https://localhost:8080/"
        },
        "id": "gtZBqrEl-6BP",
        "outputId": "9495e6ac-f869-46fd-d029-b4b46af0966a"
      },
      "outputs": [
        {
          "name": "stdout",
          "output_type": "stream",
          "text": [
            "<class 'pandas.core.frame.DataFrame'>\n",
            "Int64Index: 283802 entries, 0 to 308332\n",
            "Data columns (total 19 columns):\n",
            " #   Column                      Non-Null Count   Dtype   \n",
            "---  ------                      --------------   -----   \n",
            " 0   trip_distance               283802 non-null  float64 \n",
            " 1   fare_amount                 283802 non-null  float64 \n",
            " 2   extra                       283802 non-null  float64 \n",
            " 3   mta_tax                     283802 non-null  float64 \n",
            " 4   tip_amount                  283802 non-null  float64 \n",
            " 5   tolls_amount                283802 non-null  float64 \n",
            " 6   improvement_surcharge       283802 non-null  float64 \n",
            " 7   vendor_encoded              283802 non-null  int32   \n",
            " 8   rush_hour                   283802 non-null  int64   \n",
            " 9   pick_up_time                283802 non-null  int64   \n",
            " 10  trip_duration_seconds       283802 non-null  float64 \n",
            " 11  trip_dow_name_encoded       283802 non-null  int32   \n",
            " 12  store_and_fwd_flag_encoded  283802 non-null  int32   \n",
            " 13  rate_type_encoded           283802 non-null  int32   \n",
            " 14  pu_location_encoded         283802 non-null  int32   \n",
            " 15  do_location_encoded         283802 non-null  int32   \n",
            " 16  trip_type_encoded           283802 non-null  int32   \n",
            " 17  payment_type_encoded        283802 non-null  int32   \n",
            " 18  price_category              283802 non-null  category\n",
            "dtypes: category(1), float64(8), int32(8), int64(2)\n",
            "memory usage: 32.7 MB\n"
          ]
        }
      ],
      "source": [
        "data.info()"
      ]
    },
    {
      "cell_type": "markdown",
      "metadata": {
        "id": "5MycCcwu-7hQ"
      },
      "source": [
        "**Step 2: Classification Models**"
      ]
    },
    {
      "cell_type": "markdown",
      "metadata": {
        "id": "sdX4o7qsNEL8"
      },
      "source": [
        "Split Data (CV, train and test)"
      ]
    },
    {
      "cell_type": "code",
      "execution_count": 187,
      "metadata": {
        "colab": {
          "base_uri": "https://localhost:8080/"
        },
        "id": "6RANFKZpND-Q",
        "outputId": "101483c5-9c0e-4e90-a9ad-bd443929fe51"
      },
      "outputs": [
        {
          "name": "stdout",
          "output_type": "stream",
          "text": [
            "<class 'pandas.core.frame.DataFrame'>\n",
            "Int64Index: 227041 entries, 63875 to 132190\n",
            "Data columns (total 18 columns):\n",
            " #   Column                      Non-Null Count   Dtype  \n",
            "---  ------                      --------------   -----  \n",
            " 0   trip_distance               227041 non-null  float64\n",
            " 1   fare_amount                 227041 non-null  float64\n",
            " 2   extra                       227041 non-null  float64\n",
            " 3   mta_tax                     227041 non-null  float64\n",
            " 4   tip_amount                  227041 non-null  float64\n",
            " 5   tolls_amount                227041 non-null  float64\n",
            " 6   improvement_surcharge       227041 non-null  float64\n",
            " 7   vendor_encoded              227041 non-null  int32  \n",
            " 8   rush_hour                   227041 non-null  int64  \n",
            " 9   pick_up_time                227041 non-null  int64  \n",
            " 10  trip_duration_seconds       227041 non-null  float64\n",
            " 11  trip_dow_name_encoded       227041 non-null  int32  \n",
            " 12  store_and_fwd_flag_encoded  227041 non-null  int32  \n",
            " 13  rate_type_encoded           227041 non-null  int32  \n",
            " 14  pu_location_encoded         227041 non-null  int32  \n",
            " 15  do_location_encoded         227041 non-null  int32  \n",
            " 16  trip_type_encoded           227041 non-null  int32  \n",
            " 17  payment_type_encoded        227041 non-null  int32  \n",
            "dtypes: float64(8), int32(8), int64(2)\n",
            "memory usage: 26.0 MB\n",
            "<class 'pandas.core.frame.DataFrame'>\n",
            "Int64Index: 56761 entries, 61698 to 228210\n",
            "Data columns (total 18 columns):\n",
            " #   Column                      Non-Null Count  Dtype  \n",
            "---  ------                      --------------  -----  \n",
            " 0   trip_distance               56761 non-null  float64\n",
            " 1   fare_amount                 56761 non-null  float64\n",
            " 2   extra                       56761 non-null  float64\n",
            " 3   mta_tax                     56761 non-null  float64\n",
            " 4   tip_amount                  56761 non-null  float64\n",
            " 5   tolls_amount                56761 non-null  float64\n",
            " 6   improvement_surcharge       56761 non-null  float64\n",
            " 7   vendor_encoded              56761 non-null  int32  \n",
            " 8   rush_hour                   56761 non-null  int64  \n",
            " 9   pick_up_time                56761 non-null  int64  \n",
            " 10  trip_duration_seconds       56761 non-null  float64\n",
            " 11  trip_dow_name_encoded       56761 non-null  int32  \n",
            " 12  store_and_fwd_flag_encoded  56761 non-null  int32  \n",
            " 13  rate_type_encoded           56761 non-null  int32  \n",
            " 14  pu_location_encoded         56761 non-null  int32  \n",
            " 15  do_location_encoded         56761 non-null  int32  \n",
            " 16  trip_type_encoded           56761 non-null  int32  \n",
            " 17  payment_type_encoded        56761 non-null  int32  \n",
            "dtypes: float64(8), int32(8), int64(2)\n",
            "memory usage: 6.5 MB\n"
          ]
        }
      ],
      "source": [
        "#Split the data into train (80%) and test (20%) sets\n",
        "price_category = data['price_category']\n",
        "data.drop(columns=['price_category'],inplace=True)\n",
        "X_train, X_test, y_train, y_test = train_test_split(data, price_category, test_size=0.2, random_state=42)\n",
        "\n",
        "X_train.info()\n",
        "X_test.info()\n"
      ]
    },
    {
      "cell_type": "markdown",
      "metadata": {
        "id": "SO6fFSaZC37z"
      },
      "source": [
        "**KNN**"
      ]
    },
    {
      "cell_type": "code",
      "execution_count": 188,
      "metadata": {
        "id": "z7Fv3QFfLy2-"
      },
      "outputs": [],
      "source": [
        "from sklearn.metrics import accuracy_score, confusion_matrix, classification_report, roc_auc_score, roc_curve, auc\n",
        "from sklearn.neighbors import KNeighborsClassifier\n",
        "import pandas as pd\n",
        "import time"
      ]
    },
    {
      "cell_type": "markdown",
      "metadata": {
        "id": "yNZggtediBEF"
      },
      "source": [
        "We began by testing various values for k to plot the error rate, using the elbow method to determine the optimal k.\n"
      ]
    },
    {
      "cell_type": "code",
      "execution_count": 189,
      "metadata": {
        "colab": {
          "base_uri": "https://localhost:8080/"
        },
        "id": "3OSxzTCEhzLE",
        "outputId": "5fd13b13-c56f-4c56-a302-a40136bc6119"
      },
      "outputs": [
        {
          "name": "stdout",
          "output_type": "stream",
          "text": [
            "Accuracy for 3 neighbors:  0.8413875724529166\n",
            "Accuracy for 7 neighbors:  0.8508306759923187\n",
            "Accuracy for 11 neighbors:  0.8543013688976586\n",
            "Accuracy for 19 neighbors:  0.857137823505576\n",
            "Accuracy for 21 neighbors:  0.8569968816617043\n",
            "Accuracy for 49 neighbors:  0.8548299008121774\n",
            "Accuracy for 99 neighbors:  0.8532266873381371\n",
            "Accuracy for 199 neighbors:  0.8511830306019978\n",
            "Accuracy for 299 neighbors:  0.8501612022339282\n",
            "Accuracy for 399 neighbors:  0.8497383767023132\n"
          ]
        }
      ],
      "source": [
        "columns = ['model name', 'accuracy', 'precision', 'recall', 'f1', 'auc']\n",
        "nopcadf = pd.DataFrame(columns=columns)\n",
        "\n",
        "# Split the data into training and testing sets\n",
        "error_values = []\n",
        "k_neighbors = [3, 7, 11, 19, 21 ,49,99,199,299,399]\n",
        "# Vary the number of neighbors (k) and evaluate the model\n",
        "for k in k_neighbors:  # Adjust the range based on your needs\n",
        "    KNN = KNeighborsClassifier(n_neighbors=k)\n",
        "    KNN.fit(X_train, y_train)\n",
        "\n",
        "    KNN_start = time.time()\n",
        "    price_predicted = KNN.predict(X_test)\n",
        "    KNN_end = time.time()\n",
        "\n",
        "    KNN_time = KNN_end - KNN_start\n",
        "\n",
        "    knnaccuracy = accuracy_score(y_test, price_predicted)\n",
        "    error = 1 - knnaccuracy\n",
        "    error_values.append(error)\n",
        "    print(f\"Accuracy for {k} neighbors: \", knnaccuracy)\n"
      ]
    },
    {
      "cell_type": "code",
      "execution_count": 190,
      "metadata": {
        "colab": {
          "base_uri": "https://localhost:8080/",
          "height": 472
        },
        "id": "lzEvtMWkMuEv",
        "outputId": "d91ad431-0bf1-4ac2-8f79-712e85a32bf4"
      },
      "outputs": [
        {
          "data": {
            "image/png": "[encoded data removed]",
            "text/plain": [
              "<Figure size 640x480 with 1 Axes>"
            ]
          },
          "metadata": {},
          "output_type": "display_data"
        }
      ],
      "source": [
        "# Plot the error-complexity curve\n",
        "plt.plot(k_neighbors, error_values, marker='o')\n",
        "plt.xlabel('Number of Neighbors (k)')\n",
        "plt.ylabel('Error Rate')\n",
        "plt.title('Error-Complexity Plot for KNN')\n",
        "plt.show()"
      ]
    },
    {
      "cell_type": "markdown",
      "metadata": {
        "id": "DzFvu907jlcx"
      },
      "source": [
        "We used the optimal to train the model, then test it. Afterwards, I used the 5 evaluation metrics for classification which are accuracy, recall, precision, f1 score and ROC-AUC.\n",
        "\n",
        "Accuracy: The overall accuracy of the model is 85.7%."
      ]
    },
    {
      "cell_type": "code",
      "execution_count": 191,
      "metadata": {
        "colab": {
          "base_uri": "https://localhost:8080/"
        },
        "id": "HMOnYpspM1Mb",
        "outputId": "bfa1eddb-3e24-4c00-e629-9da4fcb373a1"
      },
      "outputs": [
        {
          "name": "stdout",
          "output_type": "stream",
          "text": [
            "Optimal K: 19\n",
            "Accuracy: 0.857137823505576\n"
          ]
        }
      ],
      "source": [
        "optimal_k = k_neighbors[np.argmin(error_values)] # one of the low points of error complexity --> take larger model is already small\n",
        "print(f'Optimal K: {optimal_k}')\n",
        "knn_model = KNeighborsClassifier(n_neighbors=optimal_k)\n",
        "knn_model.fit(X_train, y_train)\n",
        "price_predicted = knn_model.predict(X_test)\n",
        "\n",
        "# Evaluate the model\n",
        "knnaccuracy = accuracy_score(y_test, price_predicted)\n",
        "conf_matrix = confusion_matrix(y_test, price_predicted)\n",
        "class_report = classification_report(y_test, price_predicted, target_names=np.unique(y_train))\n",
        "\n",
        "print(f'Accuracy: {knnaccuracy}')"
      ]
    },
    {
      "cell_type": "markdown",
      "metadata": {
        "id": "3X-6JGOQmrhn"
      },
      "source": [
        "Overall, the model demonstrates good performance on the \"medium\" and \"low\" classes, but there is room for improvement in accurately identifying the \"high\" class."
      ]
    },
    {
      "cell_type": "code",
      "execution_count": 192,
      "metadata": {
        "colab": {
          "base_uri": "https://localhost:8080/",
          "height": 755
        },
        "id": "p9Bh245Hmk5a",
        "outputId": "ea3c2d1a-5455-40a2-9872-9b2ced85f30d"
      },
      "outputs": [
        {
          "data": {
            "image/png": "[encoded data removed]",
            "text/plain": [
              "<Figure size 800x600 with 2 Axes>"
            ]
          },
          "metadata": {},
          "output_type": "display_data"
        },
        {
          "name": "stdout",
          "output_type": "stream",
          "text": [
            "Classification Report:\n",
            "              precision    recall  f1-score   support\n",
            "\n",
            "        high       0.76      0.58      0.66      5565\n",
            "         low       0.83      0.86      0.84     14902\n",
            "      medium       0.88      0.90      0.89     36294\n",
            "\n",
            "    accuracy                           0.86     56761\n",
            "   macro avg       0.82      0.78      0.80     56761\n",
            "weighted avg       0.85      0.86      0.85     56761\n",
            "\n"
          ]
        }
      ],
      "source": [
        "#Confusion Matrix\n",
        "plt.figure(figsize=(8, 6))\n",
        "sns.heatmap(conf_matrix, annot=True, fmt='.2f', cmap='Blues_r', xticklabels=np.unique(y_train), yticklabels=np.unique(y_train))\n",
        "plt.title('Average Confusion Matrix')\n",
        "plt.xlabel('Predicted')\n",
        "plt.ylabel('Actual')\n",
        "plt.show()\n",
        "\n",
        "print(f'Classification Report:\\n{class_report}')"
      ]
    },
    {
      "cell_type": "markdown",
      "metadata": {
        "id": "ea0gIHsLjg1T"
      },
      "source": [
        "The average AUC is very high at 94%, which suggests that the model has an high ability to distinguish between the classes. The very high accuracy and AUC can be attributed to the high correlation between two of the numerical features, fare_amount and trip_distance. The highest AUC was for the low class.\n"
      ]
    },
    {
      "cell_type": "code",
      "execution_count": 193,
      "metadata": {
        "colab": {
          "base_uri": "https://localhost:8080/",
          "height": 735
        },
        "id": "y2widiW3cg1h",
        "outputId": "77a89f2e-10fe-4f0f-a27d-27be0027cbbb"
      },
      "outputs": [
        {
          "name": "stdout",
          "output_type": "stream",
          "text": [
            "AUC-ROC: 0.9455911181430151\n"
          ]
        },
        {
          "data": {
            "image/png": "[encoded data removed]",
            "text/plain": [
              "<Figure size 1000x800 with 1 Axes>"
            ]
          },
          "metadata": {},
          "output_type": "display_data"
        }
      ],
      "source": [
        "# Calculate AUC-ROC for each class\n",
        "y_prob = knn_model.predict_proba(X_test)\n",
        "auc_roc = roc_auc_score(y_test, y_prob, multi_class='ovr')  # Use 'ovo' or 'ovr' depending on your preference\n",
        "print(f'AUC-ROC: {auc_roc}')\n",
        "\n",
        "\n",
        "# Plot the ROC curve for each class\n",
        "fpr = {}\n",
        "tpr = {}\n",
        "roc_auc = {}\n",
        "\n",
        "for i in range(len(knn_model.classes_)):\n",
        "    fpr[i], tpr[i], _ = roc_curve((y_test == knn_model.classes_[i]).astype(int), y_prob[:, i])\n",
        "    roc_auc[i] = auc(fpr[i], tpr[i])\n",
        "\n",
        "# Plot ROC curves\n",
        "plt.figure(figsize=(10, 8))\n",
        "colors = ['blue', 'orange', 'green']\n",
        "for i, color in zip(range(len(knn_model.classes_)), colors):\n",
        "    plt.plot(fpr[i], tpr[i], color=color, lw=2,\n",
        "             label='ROC curve of class {0} (area = {1:0.2f})'\n",
        "             ''.format(knn_model.classes_[i], roc_auc[i]))\n",
        "\n",
        "plt.plot([0, 1], [0, 1], 'k--', lw=2)\n",
        "plt.xlim([0.0, 1.0])\n",
        "plt.ylim([0.0, 1.05])\n",
        "plt.xlabel('False Positive Rate')\n",
        "plt.ylabel('True Positive Rate')\n",
        "plt.title('ROC Curve for KNN Classifier')\n",
        "plt.legend(loc=\"lower right\")\n",
        "plt.show()"
      ]
    },
    {
      "cell_type": "markdown",
      "metadata": {
        "id": "ZkWZCEJcC4Tk"
      },
      "source": [
        "**Naive Bayes**"
      ]
    },
    {
      "cell_type": "markdown",
      "metadata": {
        "id": "s84UYAkP37wf"
      },
      "source": [
        "In Naive Bayes Classifier, Machine Learning diagonstics techniques are applied, such as Regularization and k-fold sampling of 5 splits. For each k-fold sampling iteration, the accuracy is calculated. Finally, average accuracy is calculated for all samples.\n",
        "Naive Bayes accuracy = 81.24%       "
      ]
    },
    {
      "cell_type": "code",
      "execution_count": 194,
      "metadata": {
        "colab": {
          "base_uri": "https://localhost:8080/",
          "height": 1000
        },
        "id": "3hubBg3uC44q",
        "outputId": "573fd865-2c30-4083-db7b-5b18ef0bcf96"
      },
      "outputs": [
        {
          "name": "stdout",
          "output_type": "stream",
          "text": [
            "Best Alpha (var_smoothing): 1e-09\n",
            "GridSearchCV results:\n",
            "  param_var_smoothing  mean_test_score  std_test_score  mean_train_score  \\\n",
            "0                 0.0         0.811100        0.003998          0.811420   \n",
            "1                 0.0         0.785845        0.007210          0.785775   \n",
            "2                 0.0         0.641333        0.002636          0.641345   \n",
            "3            0.000001         0.641294        0.002607          0.641313   \n",
            "4             0.00001         0.641289        0.002614          0.641311   \n",
            "5              0.0001         0.641289        0.002614          0.641310   \n",
            "6               0.001         0.641285        0.002611          0.641305   \n",
            "7                0.01         0.641285        0.002611          0.641306   \n",
            "8                 0.1         0.641281        0.002606          0.641285   \n",
            "9                 1.0         0.641254        0.002539          0.641216   \n",
            "\n",
            "   std_train_score  \n",
            "0         0.003707  \n",
            "1         0.006780  \n",
            "2         0.000480  \n",
            "3         0.000479  \n",
            "4         0.000479  \n",
            "5         0.000480  \n",
            "6         0.000483  \n",
            "7         0.000484  \n",
            "8         0.000495  \n",
            "9         0.000580  \n",
            "Fold 1:\n",
            "Training indices: [     0      1      2 ... 227036 227037 227039]\n",
            "Testing indices: [     4      6     11 ... 227032 227038 227040]\n",
            "Accuracy: 0.8070\n",
            "----------------------------------------\n",
            "Fold 2:\n",
            "Training indices: [     1      2      3 ... 227037 227038 227040]\n",
            "Testing indices: [     0     20     30 ... 227028 227030 227039]\n",
            "Accuracy: 0.8098\n",
            "----------------------------------------\n",
            "Fold 3:\n",
            "Training indices: [     0      2      4 ... 227038 227039 227040]\n",
            "Testing indices: [     1      3     21 ... 227033 227035 227037]\n",
            "Accuracy: 0.8078\n",
            "----------------------------------------\n",
            "Fold 4:\n",
            "Training indices: [     0      1      3 ... 227038 227039 227040]\n",
            "Testing indices: [     2      7      8 ... 227020 227021 227031]\n",
            "Accuracy: 0.8179\n",
            "----------------------------------------\n",
            "Fold 5:\n",
            "Training indices: [     0      1      2 ... 227038 227039 227040]\n",
            "Testing indices: [     5     10     15 ... 227029 227034 227036]\n",
            "Accuracy: 0.8132\n",
            "----------------------------------------\n",
            "Mean cross-validation score: 0.8111\n",
            "Standard deviation of cross-validation scores: 0.0040\n",
            "Accuracy on test data: 0.8092704497806592\n",
            "Classification report on test data:\n",
            "              precision    recall  f1-score   support\n",
            "\n",
            "        high       0.79      0.92      0.85      5565\n",
            "         low       0.63      0.96      0.76     14902\n",
            "      medium       0.97      0.73      0.83     36294\n",
            "\n",
            "    accuracy                           0.81     56761\n",
            "   macro avg       0.80      0.87      0.81     56761\n",
            "weighted avg       0.86      0.81      0.81     56761\n",
            "\n"
          ]
        },
        {
          "data": {
            "image/png": "[encoded data removed]",
            "text/plain": [
              "<Figure size 800x600 with 2 Axes>"
            ]
          },
          "metadata": {},
          "output_type": "display_data"
        }
      ],
      "source": [
        "naive_b = GaussianNB()\n",
        "\n",
        "param_grid = {'var_smoothing': np.logspace(-9, 0, 10)}\n",
        "\n",
        "kf = KFold(n_splits=5, shuffle=True, random_state=42)\n",
        "\n",
        "grid_search = GridSearchCV(estimator=naive_b, param_grid=param_grid, cv=kf, scoring='accuracy', return_train_score=True)\n",
        "\n",
        "grid_search.fit(X_train, y_train)\n",
        "\n",
        "best_alpha = grid_search.best_params_['var_smoothing']\n",
        "print(f\"Best Alpha (var_smoothing): {best_alpha}\")\n",
        "\n",
        "cv_results = pd.DataFrame(grid_search.cv_results_)\n",
        "print(\"GridSearchCV results:\")\n",
        "print(cv_results[['param_var_smoothing', 'mean_test_score', 'std_test_score', 'mean_train_score', 'std_train_score']])\n",
        "\n",
        "best_model = GaussianNB(var_smoothing=best_alpha)\n",
        "\n",
        "fold_accuracies = []\n",
        "fold_details = []\n",
        "\n",
        "for fold, (train_index, test_index) in enumerate(kf.split(X_train)):\n",
        "    X_train_fold, X_test_fold = X_train.iloc[train_index], X_train.iloc[test_index]\n",
        "    y_train_fold, y_test_fold = y_train.iloc[train_index], y_train.iloc[test_index]\n",
        "\n",
        "    best_model.fit(X_train_fold, y_train_fold)\n",
        "\n",
        "    y_pred = best_model.predict(X_test_fold)\n",
        "\n",
        "    accuracy = accuracy_score(y_test_fold, y_pred)\n",
        "    fold_accuracies.append(accuracy)\n",
        "    fold_details.append({\n",
        "        'fold': fold + 1,\n",
        "        'train_index': train_index,\n",
        "        'test_index': test_index,\n",
        "        'accuracy': accuracy\n",
        "    })\n",
        "\n",
        "    print(f\"Fold {fold + 1}:\")\n",
        "    print(f\"Training indices: {train_index}\")\n",
        "    print(f\"Testing indices: {test_index}\")\n",
        "    print(f\"Accuracy: {accuracy:.4f}\")\n",
        "    print(\"-\" * 40)\n",
        "\n",
        "\n",
        "print(f\"Mean cross-validation score: {np.mean(fold_accuracies):.4f}\")\n",
        "print(f\"Standard deviation of cross-validation scores: {np.std(fold_accuracies):.4f}\")\n",
        "\n",
        "\n",
        "best_model.fit(X_train, y_train)\n",
        "price_predicted = best_model.predict(X_test)\n",
        "\n",
        "cm = confusion_matrix(y_test, price_predicted)\n",
        "\n",
        "accuracynb = accuracy_score(y_test, price_predicted)\n",
        "print(\"Accuracy on test data:\", accuracynb)\n",
        "\n",
        "print(\"Classification report on test data:\")\n",
        "print(classification_report(y_test, price_predicted))\n",
        "\n",
        "plt.figure(figsize=(8, 6))\n",
        "sns.heatmap(cm, annot=True, fmt='d', cmap='Blues_r', xticklabels=np.unique(y_train), yticklabels=np.unique(y_train))\n",
        "plt.xlabel('Predicted')\n",
        "plt.ylabel('Actual')\n",
        "plt.title('Confusion Matrix')\n",
        "plt.show()"
      ]
    },
    {
      "cell_type": "markdown",
      "metadata": {
        "id": "Q5MeiBsQDG9Y"
      },
      "source": [
        "**Decision Trees**"
      ]
    },
    {
      "cell_type": "markdown",
      "metadata": {
        "id": "bgdQI9PQYtcW"
      },
      "source": [
        "In the implementation of the decision tree model, cross validation is implemented as an attempt to prevent overfitting and the results are analyzed to determine if it meets its purpose."
      ]
    },
    {
      "cell_type": "code",
      "execution_count": 195,
      "metadata": {
        "colab": {
          "base_uri": "https://localhost:8080/"
        },
        "id": "OlthT6d_LRd6",
        "outputId": "6a2f0dc2-b8fa-4c7c-911c-32f720a7aeb1"
      },
      "outputs": [
        {
          "name": "stdout",
          "output_type": "stream",
          "text": [
            "Training set size: 170281\n",
            "Validation (cv) set size: 56760\n",
            "Test set size: 56761\n"
          ]
        }
      ],
      "source": [
        "#Split into 60% training and 40% remaining (cross-validation + test)\n",
        "X_train_dt, data_remaining, y_train_dt, price_remaining = train_test_split(\n",
        "    data, price_category, test_size=0.4, random_state=42\n",
        ")\n",
        "\n",
        "#Split the remaining data into 50% cross-validation and 50% test (20% each of the original data)\n",
        "data_val, X_test_dt, price_val, y_test_dt = train_test_split(\n",
        "    data_remaining, price_remaining, test_size=0.5, random_state=42\n",
        ")\n",
        "\n",
        "print(f'Training set size: {len(X_train_dt)}')\n",
        "print(f'Validation (cv) set size: {len(data_val)}')\n",
        "print(f'Test set size: {len(X_test_dt)}')"
      ]
    },
    {
      "cell_type": "code",
      "execution_count": 196,
      "metadata": {
        "id": "6bGHxefgQc6O"
      },
      "outputs": [],
      "source": [
        "from sklearn.tree import DecisionTreeClassifier, plot_tree\n",
        "from pandas import DataFrame"
      ]
    },
    {
      "cell_type": "markdown",
      "metadata": {
        "id": "35nv_LMYZMft"
      },
      "source": [
        "*   *X_train_dt* is used to train the model\n",
        "*   *data_val* is used to determine the best depth based on the optimum accuracy\n",
        "*   *X_test_dt* is used to determine the accuracy of the model\n"
      ]
    },
    {
      "cell_type": "code",
      "execution_count": 197,
      "metadata": {
        "id": "jWxK7NXvDHTQ"
      },
      "outputs": [],
      "source": [
        "depth = np.array([3, 5, 10, 15, 20, 25, 30])"
      ]
    },
    {
      "cell_type": "code",
      "execution_count": 198,
      "metadata": {
        "id": "rYObsfKvQOyW"
      },
      "outputs": [],
      "source": [
        "accuracy = np.array([])\n",
        "accuracy1= np.array([])\n",
        "for i in depth:\n",
        "    DT = DecisionTreeClassifier(random_state = 42, criterion = \"entropy\", max_depth=i)\n",
        "    DT.fit(X_train_dt, y_train_dt)\n",
        "    y_pred = DT.predict(data_val)\n",
        "    y_predtrain = DT.predict(X_train_dt)\n",
        "    accuracy = np.append(accuracy, np.mean(y_pred == price_val))\n",
        "    accuracy1 = np.append(accuracy1, np.mean(y_predtrain == y_train_dt))"
      ]
    },
    {
      "cell_type": "code",
      "execution_count": 199,
      "metadata": {
        "colab": {
          "base_uri": "https://localhost:8080/",
          "height": 269
        },
        "id": "u0LFWxinQOth",
        "outputId": "9130a3ee-896a-4683-ca85-71defb25924e"
      },
      "outputs": [
        {
          "data": {
            "text/html": [
              "<div>\n",
              "<style scoped>\n",
              "    .dataframe tbody tr th:only-of-type {\n",
              "        vertical-align: middle;\n",
              "    }\n",
              "\n",
              "    .dataframe tbody tr th {\n",
              "        vertical-align: top;\n",
              "    }\n",
              "\n",
              "    .dataframe thead th {\n",
              "        text-align: right;\n",
              "    }\n",
              "</style>\n",
              "<table border=\"1\" class=\"dataframe\">\n",
              "  <thead>\n",
              "    <tr style=\"text-align: right;\">\n",
              "      <th></th>\n",
              "      <th>max_depth</th>\n",
              "      <th>cross_validation_accuracy</th>\n",
              "      <th>train_accuracy</th>\n",
              "    </tr>\n",
              "  </thead>\n",
              "  <tbody>\n",
              "    <tr>\n",
              "      <th>0</th>\n",
              "      <td>3</td>\n",
              "      <td>0.920490</td>\n",
              "      <td>0.920860</td>\n",
              "    </tr>\n",
              "    <tr>\n",
              "      <th>1</th>\n",
              "      <td>5</td>\n",
              "      <td>0.965698</td>\n",
              "      <td>0.967736</td>\n",
              "    </tr>\n",
              "    <tr>\n",
              "      <th>2</th>\n",
              "      <td>10</td>\n",
              "      <td>0.997903</td>\n",
              "      <td>0.998491</td>\n",
              "    </tr>\n",
              "    <tr>\n",
              "      <th>3</th>\n",
              "      <td>15</td>\n",
              "      <td>0.998203</td>\n",
              "      <td>0.999924</td>\n",
              "    </tr>\n",
              "    <tr>\n",
              "      <th>4</th>\n",
              "      <td>20</td>\n",
              "      <td>0.998044</td>\n",
              "      <td>1.000000</td>\n",
              "    </tr>\n",
              "    <tr>\n",
              "      <th>5</th>\n",
              "      <td>25</td>\n",
              "      <td>0.998044</td>\n",
              "      <td>1.000000</td>\n",
              "    </tr>\n",
              "    <tr>\n",
              "      <th>6</th>\n",
              "      <td>30</td>\n",
              "      <td>0.998044</td>\n",
              "      <td>1.000000</td>\n",
              "    </tr>\n",
              "  </tbody>\n",
              "</table>\n",
              "</div>"
            ],
            "text/plain": [
              "   max_depth  cross_validation_accuracy  train_accuracy\n",
              "0          3                   0.920490        0.920860\n",
              "1          5                   0.965698        0.967736\n",
              "2         10                   0.997903        0.998491\n",
              "3         15                   0.998203        0.999924\n",
              "4         20                   0.998044        1.000000\n",
              "5         25                   0.998044        1.000000\n",
              "6         30                   0.998044        1.000000"
            ]
          },
          "execution_count": 199,
          "metadata": {},
          "output_type": "execute_result"
        }
      ],
      "source": [
        "accuracy\n",
        "df = DataFrame()\n",
        "df[\"max_depth\"] = depth\n",
        "df[\"cross_validation_accuracy\"] = accuracy\n",
        "df[\"train_accuracy\"] = accuracy1\n",
        "df"
      ]
    },
    {
      "cell_type": "code",
      "execution_count": 200,
      "metadata": {
        "colab": {
          "base_uri": "https://localhost:8080/",
          "height": 465
        },
        "id": "sN1zrl70QOoS",
        "outputId": "9304f7b6-244e-4073-d5fc-d245ff5685a3"
      },
      "outputs": [
        {
          "data": {
            "image/png": "[encoded data removed]",
            "text/plain": [
              "<Figure size 1000x500 with 1 Axes>"
            ]
          },
          "metadata": {},
          "output_type": "display_data"
        }
      ],
      "source": [
        "plt.subplots(figsize = (10,5))\n",
        "plt.plot(depth, accuracy1, marker = 'o', label = \"Training Accuracy\")\n",
        "plt.plot(depth, accuracy, marker = 'o',color = 'r', label = \"Cross Validation Accuracy\")\n",
        "\n",
        "plt.grid(True)\n",
        "plt.xlabel(\"Depth\")\n",
        "plt.ylabel(\"Accuracy\")\n",
        "plt.legend()\n",
        "\n",
        "plt.show()"
      ]
    },
    {
      "cell_type": "markdown",
      "metadata": {
        "id": "TGD8hotqQh-p"
      },
      "source": [
        "A depth of 10 is the optimum depth. It has the largest cross-validation accuracy and also ensures that the number of branches are not too many to prevent overfitting.\n",
        "\n",
        "The test data is used to obtain the overall accuracy of the model on a depth of 10."
      ]
    },
    {
      "cell_type": "markdown",
      "metadata": {
        "id": "OO50K717ZsrG"
      },
      "source": [
        "**Chosen Desicion Tree Model**"
      ]
    },
    {
      "cell_type": "code",
      "execution_count": 201,
      "metadata": {
        "id": "Paos_HEqQe7f"
      },
      "outputs": [],
      "source": [
        "test_accuracy = 0\n",
        "DT = DecisionTreeClassifier(random_state = 42, criterion = \"entropy\", max_depth=10)\n",
        "DT.fit(X_train_dt, y_train_dt)\n",
        "y_pred = DT.predict(X_test_dt)\n",
        "DT_accuracy = np.mean(y_pred == y_test_dt)"
      ]
    },
    {
      "cell_type": "code",
      "execution_count": 202,
      "metadata": {
        "colab": {
          "base_uri": "https://localhost:8080/"
        },
        "id": "Q1yTwzWDRtCe",
        "outputId": "2ca5bfcb-2983-48d8-fd7d-b1201bc8ac41"
      },
      "outputs": [
        {
          "data": {
            "text/plain": [
              "0.9976216063846656"
            ]
          },
          "execution_count": 202,
          "metadata": {},
          "output_type": "execute_result"
        }
      ],
      "source": [
        "DT_accuracy"
      ]
    },
    {
      "cell_type": "code",
      "execution_count": 206,
      "metadata": {
        "colab": {
          "base_uri": "https://localhost:8080/"
        },
        "id": "AimeQQcgcUEi",
        "outputId": "c47380f0-8bf6-4c60-daac-3034bce168ef"
      },
      "outputs": [
        {
          "name": "stdout",
          "output_type": "stream",
          "text": [
            "              precision    recall  f1-score   support\n",
            "\n",
            "        high       1.00      0.99      0.99      5650\n",
            "         low       1.00      1.00      1.00     14789\n",
            "      medium       1.00      1.00      1.00     36322\n",
            "\n",
            "    accuracy                           1.00     56761\n",
            "   macro avg       1.00      1.00      1.00     56761\n",
            "weighted avg       1.00      1.00      1.00     56761\n",
            "\n"
          ]
        }
      ],
      "source": [
        "from sklearn.metrics import accuracy_score, confusion_matrix, classification_report, roc_auc_score, roc_curve, auc\n",
        "\n",
        "print(classification_report(y_test_dt, y_pred,  target_names =np.unique(price_category)))"
      ]
    },
    {
      "cell_type": "markdown",
      "metadata": {
        "id": "OVxZ-Ixhc9N5"
      },
      "source": [
        "The model performs well in each of the 3 classes, with excellent accuracy, recall, and F1-score. The weighted average indicates that performance was balanced across all price categories, resulting to an overall accuracy of 100%."
      ]
    },
    {
      "cell_type": "code",
      "execution_count": 207,
      "metadata": {
        "colab": {
          "base_uri": "https://localhost:8080/",
          "height": 410
        },
        "id": "IBc89gVDcGvQ",
        "outputId": "2ec90e65-23b7-4ba7-dd38-b3f1d69e68f0"
      },
      "outputs": [
        {
          "data": {
            "image/png": "[encoded data removed]",
            "text/plain": [
              "<Figure size 400x400 with 1 Axes>"
            ]
          },
          "metadata": {},
          "output_type": "display_data"
        }
      ],
      "source": [
        "conf_matrix = confusion_matrix(y_test_dt, y_pred)\n",
        "plt.figure(figsize=(4, 4))\n",
        "sns.heatmap(conf_matrix, annot=True, fmt=\"d\", cmap=\"Blues_r\", cbar=False,  xticklabels=np.unique(price_category), yticklabels=np.unique(price_category))\n",
        "plt.title('Confusion Matrix')\n",
        "plt.xlabel('Predicted Label')\n",
        "plt.ylabel('True Label')\n",
        "plt.show()"
      ]
    },
    {
      "cell_type": "markdown",
      "metadata": {
        "id": "9ps33rhzcu2m"
      },
      "source": [
        "The most misclassified class shows 43 instances of the class *low* being classified as *medium*."
      ]
    },
    {
      "cell_type": "code",
      "execution_count": 208,
      "metadata": {
        "colab": {
          "base_uri": "https://localhost:8080/",
          "height": 653
        },
        "id": "8AoYGbh9QOh6",
        "outputId": "449805c7-6470-4ca7-be24-19365547a8c2"
      },
      "outputs": [
        {
          "data": {
            "image/png": "[encoded data removed]",
            "text/plain": [
              "<Figure size 1200x800 with 1 Axes>"
            ]
          },
          "metadata": {},
          "output_type": "display_data"
        }
      ],
      "source": [
        "model = DecisionTreeClassifier(max_depth=3)\n",
        "model.fit(X_train_dt, y_train_dt)\n",
        "\n",
        "# Plot the decision tree\n",
        "plt.figure(figsize=(12, 8))\n",
        "plot_tree(model, filled=True, feature_names=[str(i) for i in range(X_train_dt.shape[1])], class_names=[str(i) for i in range(10)])\n",
        "plt.show()"
      ]
    },
    {
      "cell_type": "markdown",
      "metadata": {
        "id": "3FcE-md2Z3Ta"
      },
      "source": [
        "This decision tree is a visualization of our dataset for a depth of 3 briefly showing how the model splits the data and utilizing the gini index rather than the entropy."
      ]
    },
    {
      "cell_type": "markdown",
      "metadata": {
        "id": "kKebXLmaDIQo"
      },
      "source": [
        "**Random Forest**"
      ]
    },
    {
      "cell_type": "markdown",
      "metadata": {
        "id": "PZ4psZAdaucx"
      },
      "source": [
        "This implementation of the random forest model runs on different number of trees and obtains the accuracy for each. We then analyze the accuracy and choose the best one."
      ]
    },
    {
      "cell_type": "code",
      "execution_count": 209,
      "metadata": {
        "id": "ATvam6QcDIn_"
      },
      "outputs": [],
      "source": [
        "from sklearn.ensemble import RandomForestClassifier\n",
        "from sklearn.metrics import mean_squared_error\n",
        "import time\n",
        "from sklearn import metrics"
      ]
    },
    {
      "cell_type": "code",
      "execution_count": 210,
      "metadata": {
        "colab": {
          "base_uri": "https://localhost:8080/"
        },
        "id": "xHTnYwFyYWDt",
        "outputId": "0b55ddda-561e-4c4d-a864-bc8e399ccdf7"
      },
      "outputs": [
        {
          "name": "stdout",
          "output_type": "stream",
          "text": [
            "Accuracy for #num_of_trees 10 : 0.9956484205704621\n",
            "Accuracy for #num_of_trees 25 : 0.9965997780165959\n",
            "Accuracy for #num_of_trees 50 : 0.9971987808530505\n",
            "Accuracy for #num_of_trees 100 : 0.9975335177322457\n",
            "Accuracy for #num_of_trees 200 : 0.9975335177322457\n",
            "Accuracy for #num_of_trees 300 : 0.9974982822712778\n"
          ]
        }
      ],
      "source": [
        "num_of_trees = [10, 25, 50, 100, 200, 300]  #Number of decision trees\n",
        "accuracytest = []\n",
        "accuracytrain = []\n",
        "\n",
        "df = DataFrame(columns=['num_of_trees', 'test_acc', 'time'])\n",
        "k = 0\n",
        "for i in num_of_trees:\n",
        "    RF = RandomForestClassifier(n_estimators=i, random_state=0)\n",
        "\n",
        "    RF.fit(X_train, y_train)\n",
        "    RF_start = time.time()\n",
        "    y_pred = RF.predict(X_test)\n",
        "    y_pred_train = RF.predict(X_train)\n",
        "    RF_end = time.time()\n",
        "\n",
        "    RF_time = RF_end - RF_start\n",
        "\n",
        "    accuracy = accuracy_score(y_test, y_pred)\n",
        "    accuracy2 = accuracy_score(y_train, y_pred_train)\n",
        "    print('Accuracy for #num_of_trees',i,\":\",accuracy )\n",
        "\n",
        "    accuracytest.append(accuracy)\n",
        "    accuracytrain.append(accuracy2)\n",
        "\n",
        "    df.loc[k] = [i, accuracy, RF_time]\n",
        "    k += 1"
      ]
    },
    {
      "cell_type": "code",
      "execution_count": 211,
      "metadata": {
        "colab": {
          "base_uri": "https://localhost:8080/",
          "height": 237
        },
        "id": "-w0AYCJpYV-G",
        "outputId": "b2107118-3c84-4f93-dfc8-fa5556b89644"
      },
      "outputs": [
        {
          "data": {
            "text/html": [
              "<div>\n",
              "<style scoped>\n",
              "    .dataframe tbody tr th:only-of-type {\n",
              "        vertical-align: middle;\n",
              "    }\n",
              "\n",
              "    .dataframe tbody tr th {\n",
              "        vertical-align: top;\n",
              "    }\n",
              "\n",
              "    .dataframe thead th {\n",
              "        text-align: right;\n",
              "    }\n",
              "</style>\n",
              "<table border=\"1\" class=\"dataframe\">\n",
              "  <thead>\n",
              "    <tr style=\"text-align: right;\">\n",
              "      <th></th>\n",
              "      <th>num_of_trees</th>\n",
              "      <th>test_acc</th>\n",
              "      <th>time</th>\n",
              "    </tr>\n",
              "  </thead>\n",
              "  <tbody>\n",
              "    <tr>\n",
              "      <th>0</th>\n",
              "      <td>10.0</td>\n",
              "      <td>0.995648</td>\n",
              "      <td>0.609808</td>\n",
              "    </tr>\n",
              "    <tr>\n",
              "      <th>1</th>\n",
              "      <td>25.0</td>\n",
              "      <td>0.996600</td>\n",
              "      <td>2.668200</td>\n",
              "    </tr>\n",
              "    <tr>\n",
              "      <th>2</th>\n",
              "      <td>50.0</td>\n",
              "      <td>0.997199</td>\n",
              "      <td>4.863885</td>\n",
              "    </tr>\n",
              "    <tr>\n",
              "      <th>3</th>\n",
              "      <td>100.0</td>\n",
              "      <td>0.997534</td>\n",
              "      <td>9.175694</td>\n",
              "    </tr>\n",
              "    <tr>\n",
              "      <th>4</th>\n",
              "      <td>200.0</td>\n",
              "      <td>0.997534</td>\n",
              "      <td>9.516744</td>\n",
              "    </tr>\n",
              "    <tr>\n",
              "      <th>5</th>\n",
              "      <td>300.0</td>\n",
              "      <td>0.997498</td>\n",
              "      <td>16.006716</td>\n",
              "    </tr>\n",
              "  </tbody>\n",
              "</table>\n",
              "</div>"
            ],
            "text/plain": [
              "   num_of_trees  test_acc       time\n",
              "0          10.0  0.995648   0.609808\n",
              "1          25.0  0.996600   2.668200\n",
              "2          50.0  0.997199   4.863885\n",
              "3         100.0  0.997534   9.175694\n",
              "4         200.0  0.997534   9.516744\n",
              "5         300.0  0.997498  16.006716"
            ]
          },
          "execution_count": 211,
          "metadata": {},
          "output_type": "execute_result"
        }
      ],
      "source": [
        "df"
      ]
    },
    {
      "cell_type": "markdown",
      "metadata": {
        "id": "8VkIRPuVbC59"
      },
      "source": [
        "The results show that increasing the number of trees increases the accuracy but also increases the time for which the model runs. Hence, a compromise between accuracy and complexity should be made."
      ]
    },
    {
      "cell_type": "code",
      "execution_count": 212,
      "metadata": {
        "colab": {
          "base_uri": "https://localhost:8080/",
          "height": 487
        },
        "id": "gAMPXPjOYV18",
        "outputId": "8f63cbdc-b015-46c7-a53b-ac98ca53eb6b"
      },
      "outputs": [
        {
          "data": {
            "image/png": "[encoded data removed]",
            "text/plain": [
              "<Figure size 1000x500 with 1 Axes>"
            ]
          },
          "metadata": {},
          "output_type": "display_data"
        }
      ],
      "source": [
        "plt.subplots(figsize = (10,5))\n",
        "plt.plot(num_of_trees, accuracytrain, marker = 'o', label = \"Training Accuracy\")\n",
        "plt.plot(num_of_trees, accuracytest, marker = 'o',color = 'r', label = \"Test Accuracy\")\n",
        "\n",
        "plt.grid(True)\n",
        "plt.xlabel(\"Number of Trees\")\n",
        "plt.ylabel(\"Accuracy\")\n",
        "plt.legend()\n",
        "plt.title(\"Number of trees vs Accuracy\")\n",
        "plt.show()"
      ]
    },
    {
      "cell_type": "markdown",
      "metadata": {
        "id": "ti6zjSJkXAs6"
      },
      "source": [
        "The test accuracy has a very good accuracy and is very close to the train accuracy. Hence, there is no overfitting/underfitting.\n",
        "\n",
        "Changing the number of trees from 50 to 300 only increases the accuracy by 0.05%. Hence, 50 trees is chosen for our model as a compromise with complexity given that 99.73% accuracy is already a good percentage.\n",
        "\n"
      ]
    },
    {
      "cell_type": "markdown",
      "metadata": {
        "id": "UJhq01W1bYFg"
      },
      "source": [
        "**Chosen Model**"
      ]
    },
    {
      "cell_type": "code",
      "execution_count": 213,
      "metadata": {
        "colab": {
          "base_uri": "https://localhost:8080/"
        },
        "id": "RArsYuIOYVv2",
        "outputId": "90f6e9ce-c0bb-4cc4-fe3d-a466f6156d23"
      },
      "outputs": [
        {
          "name": "stdout",
          "output_type": "stream",
          "text": [
            "Accuracy for #num_of_trees 50: 0.9971987808530505\n"
          ]
        }
      ],
      "source": [
        "RF = RandomForestClassifier(n_estimators=50)\n",
        "\n",
        "RF.fit(X_train, y_train)\n",
        "RF_start = time.time()\n",
        "y_pred = RF.predict(X_test)\n",
        "RF_end = time.time()\n",
        "\n",
        "RF_time = RF_end - RF_start\n",
        "\n",
        "accuracyrf = accuracy_score(y_test, y_pred)\n",
        "print('Accuracy for #num_of_trees 50:',accuracyrf )\n"
      ]
    },
    {
      "cell_type": "code",
      "execution_count": 214,
      "metadata": {
        "colab": {
          "base_uri": "https://localhost:8080/"
        },
        "id": "nfI8S8F6YVpT",
        "outputId": "cee3ff42-5b6c-455b-e006-3898656afa84"
      },
      "outputs": [
        {
          "name": "stdout",
          "output_type": "stream",
          "text": [
            "              precision    recall  f1-score   support\n",
            "\n",
            "        high       1.00      0.99      1.00      5565\n",
            "         low       1.00      1.00      1.00     14902\n",
            "      medium       1.00      1.00      1.00     36294\n",
            "\n",
            "    accuracy                           1.00     56761\n",
            "   macro avg       1.00      1.00      1.00     56761\n",
            "weighted avg       1.00      1.00      1.00     56761\n",
            "\n"
          ]
        }
      ],
      "source": [
        "print(metrics.classification_report(y_test, y_pred,  target_names =np.unique(price_category)))"
      ]
    },
    {
      "cell_type": "markdown",
      "metadata": {
        "id": "iO8pCJJ4biAA"
      },
      "source": [
        "The model performs well in each of the 3 classes, with excellent accuracy, recall, and F1-score. The weighted average indicates that performance was balanced across all price categories, resulting to an overall accuracy of 100%."
      ]
    },
    {
      "cell_type": "code",
      "execution_count": 215,
      "metadata": {
        "colab": {
          "base_uri": "https://localhost:8080/",
          "height": 410
        },
        "id": "y5U1chSoYVi7",
        "outputId": "221b296e-7c3e-4c3a-da95-b4f28a85a6c0"
      },
      "outputs": [
        {
          "data": {
            "image/png": "[encoded data removed]",
            "text/plain": [
              "<Figure size 400x400 with 1 Axes>"
            ]
          },
          "metadata": {},
          "output_type": "display_data"
        }
      ],
      "source": [
        "conf_matrix = confusion_matrix(y_test, y_pred)\n",
        "plt.figure(figsize=(4, 4))\n",
        "sns.heatmap(conf_matrix, annot=True, fmt=\"d\", cmap=\"Blues_r\", cbar=False,  xticklabels=np.unique(price_category), yticklabels=np.unique(price_category))\n",
        "plt.title('Confusion Matrix')\n",
        "plt.xlabel('Predicted Label')\n",
        "plt.ylabel('True Label')\n",
        "plt.show()"
      ]
    },
    {
      "cell_type": "markdown",
      "metadata": {
        "id": "cVu6Agq6daiB"
      },
      "source": [
        "The most misclassified class shows 56 instances of the class *'low'* being classified as *'medium'*."
      ]
    },
    {
      "cell_type": "markdown",
      "metadata": {
        "id": "60bPKhltC5ST"
      },
      "source": [
        "**Logistic Regression**\n"
      ]
    },
    {
      "cell_type": "markdown",
      "metadata": {
        "id": "vWM7IxHP_zCw"
      },
      "source": [
        "Here, we are trying to use regularization technique to find the best hypothesis function for the logistic regression model. C is the regularization parameter ranging from 0.01 to 100. We are checking the accuracy of the model with the different C values using the test data. Then, we have used the best C value (highest accuracy) for the final model."
      ]
    },
    {
      "cell_type": "code",
      "execution_count": 216,
      "metadata": {
        "id": "85A5gQ5JHY1C"
      },
      "outputs": [
        {
          "name": "stdout",
          "output_type": "stream",
          "text": [
            "Accuracy for C 0.01: 0.8516587093250647\n",
            "Accuracy for C 0.1: 0.8985042546819119\n",
            "Accuracy for C 1: 0.9414386638713201\n",
            "Accuracy for C 10: 0.9465830411726361\n",
            "Accuracy for C 100: 0.9268688007610859\n"
          ]
        }
      ],
      "source": [
        "from sklearn.linear_model import LogisticRegression\n",
        "import time\n",
        "\n",
        "C = [0.01, 0.1, 1, 10, 100]\n",
        "accuracytestlr = []\n",
        "lrmeanse = []\n",
        "df1 = pd.DataFrame(columns=['C', 'test_acc', 'time'])\n",
        "k = 0\n",
        "for i in C:\n",
        "    LR = LogisticRegression(C=i, max_iter=1000,solver='liblinear')\n",
        "    LR.fit(X_train, y_train)\n",
        "    LR_start = time.time()\n",
        "\n",
        "    y_pred = LR.predict(X_test)\n",
        "    LR_end = time.time()\n",
        "\n",
        "    LR_time = LR_end - LR_start\n",
        "\n",
        "    lraccuracy = accuracy_score(y_test, y_pred)\n",
        "    print(f\"Accuracy for C {i}:\", lraccuracy)\n",
        "\n",
        "    accuracytestlr.append(lraccuracy)\n",
        "\n",
        "    df1.loc[k] = [i, lraccuracy, LR_time]\n",
        "    k += 1"
      ]
    },
    {
      "cell_type": "markdown",
      "metadata": {
        "id": "IyLZ1n89_AqT"
      },
      "source": [
        "C=10 guarantees the best hypothesis with the highest accuracy."
      ]
    },
    {
      "cell_type": "markdown",
      "metadata": {},
      "source": [
        "**Chosen Model**"
      ]
    },
    {
      "cell_type": "code",
      "execution_count": 217,
      "metadata": {
        "id": "V1dagxeDf1SQ"
      },
      "outputs": [
        {
          "name": "stdout",
          "output_type": "stream",
          "text": [
            "Accuracy for C 10: 0.9465830411726361\n"
          ]
        }
      ],
      "source": [
        "LR = LogisticRegression(C=10, max_iter=1000,solver='liblinear')\n",
        "LR.fit(X_train, y_train)\n",
        "LR_start = time.time()\n",
        "\n",
        "y_pred = LR.predict(X_test)\n",
        "LR_end = time.time()\n",
        "\n",
        "LR_time = LR_end - LR_start\n",
        "\n",
        "lraccuracy = accuracy_score(y_test, y_pred)\n",
        "print(f\"Accuracy for C 10:\", lraccuracy)"
      ]
    },
    {
      "cell_type": "markdown",
      "metadata": {
        "id": "Mq7bkw1__UaX"
      },
      "source": [
        "Confusion Matrix"
      ]
    },
    {
      "cell_type": "code",
      "execution_count": 218,
      "metadata": {
        "id": "V99HgbLlds8L"
      },
      "outputs": [
        {
          "data": {
            "image/png": "[encoded data removed]",
            "text/plain": [
              "<Figure size 400x400 with 1 Axes>"
            ]
          },
          "metadata": {},
          "output_type": "display_data"
        }
      ],
      "source": [
        "conf_matrix = confusion_matrix(y_test, y_pred)\n",
        "plt.figure(figsize=(4, 4))\n",
        "sns.heatmap(conf_matrix, annot=True, fmt=\"d\", cmap=\"Blues_r\", cbar=False,  xticklabels=np.unique(price_category), yticklabels=np.unique(price_category))\n",
        "plt.title('Confusion Matrix')\n",
        "plt.xlabel('Predicted Label')\n",
        "plt.ylabel('True Label')\n",
        "plt.show()"
      ]
    },
    {
      "cell_type": "markdown",
      "metadata": {
        "id": "S6hyypoSY1ZS"
      },
      "source": [
        "Model Evaluation"
      ]
    },
    {
      "cell_type": "code",
      "execution_count": 219,
      "metadata": {
        "id": "cwUCJxexY3p1"
      },
      "outputs": [
        {
          "data": {
            "image/png": "[encoded data removed]",
            "text/plain": [
              "<Figure size 640x480 with 1 Axes>"
            ]
          },
          "metadata": {},
          "output_type": "display_data"
        }
      ],
      "source": [
        "accuracies = [lraccuracy, knnaccuracy, DT_accuracy, accuracyrf, accuracynb]\n",
        "colors = plt.cm.Set3(np.arange(5))\n",
        "model_names = ['Logistic Regression', 'KNN', 'Decision Trees', 'Random Forest', 'Naive Bayes']\n",
        "# ['skyblue', 'hotpink', 'lightcoral', 'lightsalmon', 'teal', 'yellow']\n",
        "plt.bar(model_names, accuracies,  color = colors)\n",
        "plt.xlabel('Models')\n",
        "plt.ylabel('Accuracy')\n",
        "plt.title('Comparison of Accuracies for Different Models')\n",
        "plt.xticks(rotation=45, ha='right')\n",
        "plt.show\n",
        "plt.ylim = (0.5, 1.0)"
      ]
    },
    {
      "cell_type": "markdown",
      "metadata": {},
      "source": [
        "The Decision Trees and the Random Forest perform best with almost equal accuracies of 98%."
      ]
    }
  ],
  "metadata": {
    "colab": {
      "provenance": []
    },
    "kernelspec": {
      "display_name": "Python 3",
      "language": "python",
      "name": "python3"
    },
    "language_info": {
      "codemirror_mode": {
        "name": "ipython",
        "version": 3
      },
      "file_extension": ".py",
      "mimetype": "text/x-python",
      "name": "python",
      "nbconvert_exporter": "python",
      "pygments_lexer": "ipython3",
      "version": "3.11.0"
    }
  },
  "nbformat": 4,
  "nbformat_minor": 0
}
